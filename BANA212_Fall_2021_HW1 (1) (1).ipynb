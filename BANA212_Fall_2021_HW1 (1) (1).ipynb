{
  "nbformat": 4,
  "nbformat_minor": 0,
  "metadata": {
    "kernelspec": {
      "display_name": "Python 3",
      "language": "python",
      "name": "python3"
    },
    "language_info": {
      "codemirror_mode": {
        "name": "ipython",
        "version": 3
      },
      "file_extension": ".py",
      "mimetype": "text/x-python",
      "name": "python",
      "nbconvert_exporter": "python",
      "pygments_lexer": "ipython3",
      "version": "3.8.3"
    },
    "colab": {
      "name": "BANA212 Fall 2021 HW1.ipynb",
      "provenance": []
    }
  },
  "cells": [
    {
      "cell_type": "markdown",
      "metadata": {
        "id": "GvbuOMv0_gMs"
      },
      "source": [
        "## Instructions: \n",
        "The purpose of this assignment is to help you practice what you've learned in class. \n",
        "\n",
        "To submit the assignment you can download the completed assignment in the .ipynb format from the notebook and upload the .ipynb format and .html version on Canvas. "
      ]
    },
    {
      "cell_type": "markdown",
      "metadata": {
        "id": "rmpWQRAA_gMw"
      },
      "source": [
        "#### Question 1 (10 pts):\t\n",
        "\n",
        "List1 = [3, 4, 5, 20, 5]\n",
        "\n",
        "* Find the index of the second 5\n",
        "* Find the last element of this list\n",
        "* Reverse this list\n"
      ]
    },
    {
      "cell_type": "code",
      "metadata": {
        "colab": {
          "base_uri": "https://localhost:8080/"
        },
        "id": "hcl2vP3K_gMx",
        "outputId": "af2d37bd-22d9-4d9c-e7a4-bb3f492f1da3"
      },
      "source": [
        "List1 = [3, 4, 5, 20, 5]\n",
        "print([i for i, n in enumerate(List1) if n == 5][1])\n",
        "print(List1[-1])\n",
        "List1.reverse()\n",
        "print(List1)"
      ],
      "execution_count": null,
      "outputs": [
        {
          "output_type": "stream",
          "name": "stdout",
          "text": [
            "4\n",
            "5\n",
            "[5, 20, 5, 4, 3]\n"
          ]
        }
      ]
    },
    {
      "cell_type": "markdown",
      "metadata": {
        "id": "XsHxPfUT_gMx"
      },
      "source": [
        "#### Question 2 (10 pts):\t\n",
        "\n",
        "L = [('',), (), ('apple', 1), (), (\"Paul\", \"Merage', 2020, \"MSBA212\"), (\"d\")]\n",
        "\n",
        "Write a Python program to remove an empty tuple(s) from a list of tuples.\n",
        "\n",
        "Expected outcome is:\n",
        "\n",
        "[('',), ('apple', 1), ('Paul', 'Merage', 2020, 'MSBA212'), 'd']"
      ]
    },
    {
      "cell_type": "code",
      "metadata": {
        "colab": {
          "base_uri": "https://localhost:8080/"
        },
        "id": "nz8ASdGN_gMy",
        "outputId": "731c92e7-e873-4e42-eea1-e80484773120"
      },
      "source": [
        "def Remove(tuples):\n",
        "  tuples = [t for t in tuples if t]\n",
        "  return tuples\n",
        "L = [('',), (), ('apple', 1), (), (\"Paul\", \"Merage\", 2020, \"MSBA212\"), (\"d\")]\n",
        "print(Remove(L))                                "
      ],
      "execution_count": null,
      "outputs": [
        {
          "output_type": "stream",
          "name": "stdout",
          "text": [
            "[('',), ('apple', 1), ('Paul', 'Merage', 2020, 'MSBA212'), 'd']\n"
          ]
        }
      ]
    },
    {
      "cell_type": "markdown",
      "metadata": {
        "id": "6PsX4y3b_gMy"
      },
      "source": [
        "#### Question 3 (10 pts): \n",
        "\n",
        "* Reverse words in the string \"one apple a day keeps the doctors away\" and print the new string\n",
        "* Sort the words in the string \"one apple a day keeps the doctors away\" alphabetically and then print the new string."
      ]
    },
    {
      "cell_type": "code",
      "metadata": {
        "colab": {
          "base_uri": "https://localhost:8080/"
        },
        "id": "KlEAM_Zi_gMz",
        "outputId": "3de29389-9621-436d-9a50-f0c640abe523"
      },
      "source": [
        "sentence=\"one apple a day keeps the doctors away\"\n",
        "words = sentence.split(' ') \n",
        "reverse_sentence = ' '.join(reversed(words))\n",
        "print(reverse_sentence)\n",
        "\n",
        "\n",
        "sentence=\"one apple a day keeps the doctors away\"\n",
        "words = [word.lower() for word in sentence.split()]\n",
        "words.sort()\n",
        "sort_sentence = ' '.join(words)\n",
        "print(sort_sentence)\n"
      ],
      "execution_count": null,
      "outputs": [
        {
          "output_type": "stream",
          "name": "stdout",
          "text": [
            "away doctors the keeps day a apple one\n",
            "a apple away day doctors keeps one the\n"
          ]
        }
      ]
    },
    {
      "cell_type": "markdown",
      "metadata": {
        "collapsed": true,
        "id": "AL6YkGou_gMz"
      },
      "source": [
        "#### Question 4 (10 pts):\n",
        "Two given lists [1,2,4,8,5,10] and [2,4,5,8,12,15], write a program to make a list whose elements are intersection of the above given lists."
      ]
    },
    {
      "cell_type": "code",
      "metadata": {
        "colab": {
          "base_uri": "https://localhost:8080/"
        },
        "id": "wrMsvoEc_gMz",
        "outputId": "07f01051-57a0-4956-ffbc-5c726d90225f"
      },
      "source": [
        "list1 = [1,2,4,8,5,10] \n",
        "list2 = [2,4,5,8,12,15]\n",
        "intersection = set(list1) & set(list2)\n",
        "print(list(intersection))"
      ],
      "execution_count": null,
      "outputs": [
        {
          "output_type": "stream",
          "name": "stdout",
          "text": [
            "[8, 2, 4, 5]\n"
          ]
        }
      ]
    },
    {
      "cell_type": "markdown",
      "metadata": {
        "id": "u-7javSF_gM0"
      },
      "source": [
        "#### Question 5(10pts):\n",
        "\n",
        "Which of the following loops below has a different number of iterations from the others? How can you prove it?"
      ]
    },
    {
      "cell_type": "code",
      "metadata": {
        "id": "9U4BnNNo_gM0"
      },
      "source": [
        "#a)\n",
        "i = 0\n",
        "while i <=100:\n",
        "    i = i+1\n",
        "#b) \n",
        "for i in range(100):\n",
        "    print(\"Hi\")\n",
        "\n",
        "#c)      \n",
        "for i in range(100, 0, -1):\n",
        "    print(\"Hi\")\n",
        "\n",
        "#d) \n",
        "i=100\n",
        "while (i>0):\n",
        "    print(\"Hi\")\n",
        "    i = i-1"
      ],
      "execution_count": null,
      "outputs": []
    },
    {
      "cell_type": "code",
      "metadata": {
        "id": "kgR86Yt-_gM0"
      },
      "source": [
        "# Your answer: Loop a has a different number of iterations from the others. It can be seen including a counter in the loops to check teh number of times the loop was iterated.\n",
        "# The code for the same is given below:-\n",
        "\n",
        "# Loop a \n",
        "i = 0\n",
        "while i <=100:\n",
        "    i = i+1\n",
        "print(str(i))\n",
        "\n",
        "\n",
        "\n",
        "# Loop b\n",
        "i=0\n",
        "for i in range(100):\n",
        "    #print(\"Hi\")\n",
        "    i=i+1\n",
        "print(str(i))\n",
        "\n",
        "\n",
        "# Loop c\n",
        "k=0\n",
        "for i in range(100, 0, -1):\n",
        "    #print(\"Hi\")\n",
        "    k=k+1\n",
        "    \n",
        "print(str(k))\n",
        "    \n",
        "\n",
        "# Loop d\n",
        "k=0\n",
        "i=100\n",
        "while (i>0):\n",
        "    #print(\"Hi\")\n",
        "    i = i-1\n",
        "    k=k+1\n",
        "    \n",
        "print(str(k))\n"
      ],
      "execution_count": null,
      "outputs": []
    },
    {
      "cell_type": "markdown",
      "metadata": {
        "collapsed": true,
        "id": "Bz2W8LEz_gM1"
      },
      "source": [
        "#### Question 5 (50 pts): \"Travel Distance\"\n",
        "\n",
        "James wants calculate the distance between his house and three of the nearest pizzerias. He checks Google Maps and writes down the directions along with the number of blocks in that direction he'd have to walk. Write a program determining the distance and printing which pizzeria is the closest to his house. Assume that all the blocks are the same unit of distance.\n",
        "\n",
        "The directions are written as a tuple in the format: (Number of Blocks, Direction) all contained within a list. These are directions from his house to the pizzeria.\n",
        "\n",
        "Pizzeria 1: [(9, \"North\"), (4, \"East\"), (2, \"South\"), (12, \"West\")]\n",
        "\n",
        "Pizzeria 2: [(14, \"North\"), (2, \"East\"), (4, \"South\"), (7, \"West\")]\n",
        "\n",
        "Pizzeria 3: [(2, \"North\"), (11, \"East\"), (6, \"South\"), (2, \"West\")]\n",
        "\n",
        "For example, for Pizzeria 1, James will first start from his house, walk 9 blocks north, then 4 blocks east, 2 blocks south, then 12 blocks west.\n",
        "\n",
        "Output:\n",
        "\n",
        "Pizzeria 3 is the closest pizzeria to his house. It is 9.848857801796104 blocks away."
      ]
    },
    {
      "cell_type": "code",
      "metadata": {
        "colab": {
          "base_uri": "https://localhost:8080/"
        },
        "id": "gykusJhr_gM1",
        "outputId": "b4fef43b-dcde-4704-8c8b-0a410a17e06a"
      },
      "source": [
        "import math\n",
        "\n",
        "dict_of_dists = dict()\n",
        "min_val, pizz_min = 1e10, 0\n",
        "\n",
        "Pizzeria_1 = [(9, \"North\"), (4, \"East\"), (2, \"South\"), (12, \"West\")]\n",
        "Pizzeria_2 = [(14, \"North\"), (2, \"East\"), (4, \"South\"), (7, \"West\")]\n",
        "Pizzeria_3 = [(2, \"North\"), (11, \"East\"), (6, \"South\"), (2, \"West\")]\n",
        "\n",
        "dict_of_dists[\"1\"] = math.sqrt(((Pizzeria_1[0][0] - Pizzeria_1[2][0])**2)+((Pizzeria_1[1][0] - Pizzeria_1[3][0])**2))\n",
        "dict_of_dists[\"2\"] = math.sqrt(((Pizzeria_2[0][0] - Pizzeria_2[2][0])**2)+((Pizzeria_2[1][0] - Pizzeria_2[3][0])**2))\n",
        "dict_of_dists[\"3\"] = math.sqrt(((Pizzeria_3[0][0] - Pizzeria_3[2][0])**2)+((Pizzeria_3[1][0] - Pizzeria_3[3][0])**2))\n",
        "\n",
        "for i, v in dict_of_dists.items():\n",
        "  if(v<min_val):\n",
        "    pizz_min = i\n",
        "    min_val = v\n",
        "\n",
        "print(f\"Pizzeria {pizz_min} is the closest pizzeria to his house. It is {min_val} blocks away\")\n"
      ],
      "execution_count": null,
      "outputs": [
        {
          "output_type": "stream",
          "name": "stdout",
          "text": [
            "Pizzeria 3 is the closest pizzeria to his house. It is 9.848857801796104 blocks away\n"
          ]
        }
      ]
    },
    {
      "cell_type": "code",
      "metadata": {
        "id": "d6uJYGgqIcQn"
      },
      "source": [
        ""
      ],
      "execution_count": null,
      "outputs": []
    }
  ]
}