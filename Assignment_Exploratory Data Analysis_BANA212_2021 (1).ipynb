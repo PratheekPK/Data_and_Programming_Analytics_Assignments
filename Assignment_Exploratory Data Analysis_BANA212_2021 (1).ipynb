{
 "cells": [
  {
   "cell_type": "markdown",
   "metadata": {},
   "source": [
    "# Assignment. Exploratory Data Analysis\n",
    "\n",
    "\n",
    "\n",
    "\n",
    "\n",
    "In part 1 of this assignment, we will focus on exploratory data analysis of stock prices. Keep in mind, this assignment is just meant to practice your visualization and pandas skills, it is not meant to be a robust financial analysis or be taken as financial advice.\n",
    "____\n",
    "** NOTE: This project is challenging and you have to look things up on your own to try to solve the tasks issued. **\n",
    "____\n",
    "We'll focus on tech stocks and see how they progressed throughout the pandemic from the beginning of 2020 all the way to the end of Dec. 2020. You may look at other sectors as well in the end of this notebook, such as Airline companies and retail industry."
   ]
  },
  {
   "cell_type": "markdown",
   "metadata": {},
   "source": [
    "# Part 1\n",
    "\n",
    "\n",
    "## Get the Data\n",
    "\n",
    "In this section we will learn how to use pandas to directly read data from Yahoo finance using pandas!\n",
    "\n",
    "First we need to start with the proper imports, which we've already laid out for you here.\n",
    "\n",
    "*Note: [You'll need to install pandas-datareader for this to work!](https://github.com/pydata/pandas-datareader) Pandas datareader allows you to [read stock information directly from the internet](http://pandas.pydata.org/pandas-docs/stable/remote_data.html) Use these links for install guidance (**pip install pandas-datareader**).*\n",
    "\n",
    "### The Imports\n"
   ]
  },
  {
   "cell_type": "code",
   "execution_count": 1,
   "metadata": {},
   "outputs": [],
   "source": [
    "#you need to install pandas datareader first. If you are using Canopy, you may comment out the first line. If you are using Anaconda, you may comment out the second line.\n",
    "#!pip install pandas-datareader\n",
    "#conda install -c anaconda pandas-datareader \n",
    "#!pip install --upgrade pandas\n",
    "import pandas as pd\n",
    "import numpy as np\n",
    "pd.core.common.is_list_like = pd.api.types.is_list_like\n",
    "from pandas_datareader import data, wb\n",
    "\n",
    "import datetime\n",
    "%matplotlib inline"
   ]
  },
  {
   "cell_type": "markdown",
   "metadata": {},
   "source": [
    "## Data\n",
    "\n",
    "We need to get data using pandas datareader. We will get stock information for the following companies:\n",
    "* Amazon\n",
    "* Facebook\n",
    "* Google\n",
    "* Microsoft\n",
    "* Twitter\n",
    "* Apple\n",
    "\n",
    "\n",
    "** Figure out how to get the stock data from Jan 1st 2020 to December 31st 2020 for each of these companies. Set each company to be a separate dataframe, with the variable name for that bank being its ticker symbol. This will involve a few steps:**\n",
    "1. Use datetime to set start and end datetime objects.\n",
    "2. Figure out the ticker symbol for each company.\n",
    "2. Figure out how to use datareader to grab info on the stock.\n",
    "\n",
    "** Use [this documentation page](https://pandas-datareader.readthedocs.io/en/latest/) for hints and instructions (it should just be a matter of replacing certain values. Use yahoo finance as a source, for example:**\n",
    "    \n",
    "    # Amazon\n",
    "    Amazon = data.DataReader(\"AMZN\", 'yahoo', start, end)\n",
    "\n",
    "You may also use yfinance library explained in Method 2.\n",
    "\n",
    "Thirdly, in case you want to use iex API, you may follow the steps here to register for an API token:https://algotrading101.com/learn/iex-api-guide/ \n",
    "\n",
    "The steps are basically:\n",
    "1. register an account on https://iexcloud.io/console/\n",
    "2. browse to the bottom, choose the \"start free plan\"\n",
    "3. on the left you will see API_Tokens, and then generate your api tokens\n"
   ]
  },
  {
   "cell_type": "markdown",
   "metadata": {},
   "source": [
    "# Method 1"
   ]
  },
  {
   "cell_type": "code",
   "execution_count": 2,
   "metadata": {},
   "outputs": [],
   "source": [
    "start = datetime.datetime(2020, 1, 1)\n",
    "end = datetime.datetime(2020, 12, 31)"
   ]
  },
  {
   "cell_type": "code",
   "execution_count": 3,
   "metadata": {},
   "outputs": [],
   "source": [
    "# Amazon\n",
    "Amazon = data.DataReader(\"AMZN\", 'yahoo', start, end)\n",
    "\n",
    "# Facebook\n",
    "Facebook = data.DataReader(\"FB\", 'yahoo', start, end)\n",
    "\n",
    "# Google\n",
    "Google = data.DataReader(\"GOOG\", 'yahoo', start, end)\n",
    "\n",
    "# Microsoft\n",
    "Microsoft = data.DataReader(\"MSFT\", 'yahoo', start, end)\n",
    "\n",
    "# Twitter\n",
    "Twitter = data.DataReader(\"TWTR\", 'yahoo', start, end)\n",
    "\n",
    "# Apple\n",
    "Apple = data.DataReader(\"AAPL\", 'yahoo', start, end)"
   ]
  },
  {
   "cell_type": "code",
   "execution_count": 4,
   "metadata": {},
   "outputs": [
    {
     "data": {
      "text/html": [
       "<div>\n",
       "<style scoped>\n",
       "    .dataframe tbody tr th:only-of-type {\n",
       "        vertical-align: middle;\n",
       "    }\n",
       "\n",
       "    .dataframe tbody tr th {\n",
       "        vertical-align: top;\n",
       "    }\n",
       "\n",
       "    .dataframe thead th {\n",
       "        text-align: right;\n",
       "    }\n",
       "</style>\n",
       "<table border=\"1\" class=\"dataframe\">\n",
       "  <thead>\n",
       "    <tr style=\"text-align: right;\">\n",
       "      <th></th>\n",
       "      <th>High</th>\n",
       "      <th>Low</th>\n",
       "      <th>Open</th>\n",
       "      <th>Close</th>\n",
       "      <th>Volume</th>\n",
       "      <th>Adj Close</th>\n",
       "    </tr>\n",
       "    <tr>\n",
       "      <th>Date</th>\n",
       "      <th></th>\n",
       "      <th></th>\n",
       "      <th></th>\n",
       "      <th></th>\n",
       "      <th></th>\n",
       "      <th></th>\n",
       "    </tr>\n",
       "  </thead>\n",
       "  <tbody>\n",
       "    <tr>\n",
       "      <th>2020-01-02</th>\n",
       "      <td>1898.010010</td>\n",
       "      <td>1864.150024</td>\n",
       "      <td>1875.000000</td>\n",
       "      <td>1898.010010</td>\n",
       "      <td>4029000</td>\n",
       "      <td>1898.010010</td>\n",
       "    </tr>\n",
       "    <tr>\n",
       "      <th>2020-01-03</th>\n",
       "      <td>1886.199951</td>\n",
       "      <td>1864.500000</td>\n",
       "      <td>1864.500000</td>\n",
       "      <td>1874.969971</td>\n",
       "      <td>3764400</td>\n",
       "      <td>1874.969971</td>\n",
       "    </tr>\n",
       "    <tr>\n",
       "      <th>2020-01-06</th>\n",
       "      <td>1903.689941</td>\n",
       "      <td>1860.000000</td>\n",
       "      <td>1860.000000</td>\n",
       "      <td>1902.880005</td>\n",
       "      <td>4061800</td>\n",
       "      <td>1902.880005</td>\n",
       "    </tr>\n",
       "    <tr>\n",
       "      <th>2020-01-07</th>\n",
       "      <td>1913.890015</td>\n",
       "      <td>1892.040039</td>\n",
       "      <td>1904.500000</td>\n",
       "      <td>1906.859985</td>\n",
       "      <td>4044900</td>\n",
       "      <td>1906.859985</td>\n",
       "    </tr>\n",
       "    <tr>\n",
       "      <th>2020-01-08</th>\n",
       "      <td>1911.000000</td>\n",
       "      <td>1886.439941</td>\n",
       "      <td>1898.040039</td>\n",
       "      <td>1891.969971</td>\n",
       "      <td>3508000</td>\n",
       "      <td>1891.969971</td>\n",
       "    </tr>\n",
       "  </tbody>\n",
       "</table>\n",
       "</div>"
      ],
      "text/plain": [
       "                   High          Low         Open        Close   Volume  \\\n",
       "Date                                                                      \n",
       "2020-01-02  1898.010010  1864.150024  1875.000000  1898.010010  4029000   \n",
       "2020-01-03  1886.199951  1864.500000  1864.500000  1874.969971  3764400   \n",
       "2020-01-06  1903.689941  1860.000000  1860.000000  1902.880005  4061800   \n",
       "2020-01-07  1913.890015  1892.040039  1904.500000  1906.859985  4044900   \n",
       "2020-01-08  1911.000000  1886.439941  1898.040039  1891.969971  3508000   \n",
       "\n",
       "              Adj Close  \n",
       "Date                     \n",
       "2020-01-02  1898.010010  \n",
       "2020-01-03  1874.969971  \n",
       "2020-01-06  1902.880005  \n",
       "2020-01-07  1906.859985  \n",
       "2020-01-08  1891.969971  "
      ]
     },
     "execution_count": 4,
     "metadata": {},
     "output_type": "execute_result"
    }
   ],
   "source": [
    "Amazon.head()"
   ]
  },
  {
   "cell_type": "code",
   "execution_count": 5,
   "metadata": {},
   "outputs": [
    {
     "data": {
      "text/html": [
       "<div>\n",
       "<style scoped>\n",
       "    .dataframe tbody tr th:only-of-type {\n",
       "        vertical-align: middle;\n",
       "    }\n",
       "\n",
       "    .dataframe tbody tr th {\n",
       "        vertical-align: top;\n",
       "    }\n",
       "\n",
       "    .dataframe thead th {\n",
       "        text-align: right;\n",
       "    }\n",
       "</style>\n",
       "<table border=\"1\" class=\"dataframe\">\n",
       "  <thead>\n",
       "    <tr style=\"text-align: right;\">\n",
       "      <th></th>\n",
       "      <th>Date</th>\n",
       "      <th>High</th>\n",
       "      <th>Low</th>\n",
       "      <th>Open</th>\n",
       "      <th>Close</th>\n",
       "      <th>Volume</th>\n",
       "      <th>Adj Close</th>\n",
       "    </tr>\n",
       "  </thead>\n",
       "  <tbody>\n",
       "    <tr>\n",
       "      <th>0</th>\n",
       "      <td>2020-01-02</td>\n",
       "      <td>1898.010010</td>\n",
       "      <td>1864.150024</td>\n",
       "      <td>1875.000000</td>\n",
       "      <td>1898.010010</td>\n",
       "      <td>4029000</td>\n",
       "      <td>1898.010010</td>\n",
       "    </tr>\n",
       "    <tr>\n",
       "      <th>1</th>\n",
       "      <td>2020-01-03</td>\n",
       "      <td>1886.199951</td>\n",
       "      <td>1864.500000</td>\n",
       "      <td>1864.500000</td>\n",
       "      <td>1874.969971</td>\n",
       "      <td>3764400</td>\n",
       "      <td>1874.969971</td>\n",
       "    </tr>\n",
       "    <tr>\n",
       "      <th>2</th>\n",
       "      <td>2020-01-06</td>\n",
       "      <td>1903.689941</td>\n",
       "      <td>1860.000000</td>\n",
       "      <td>1860.000000</td>\n",
       "      <td>1902.880005</td>\n",
       "      <td>4061800</td>\n",
       "      <td>1902.880005</td>\n",
       "    </tr>\n",
       "    <tr>\n",
       "      <th>3</th>\n",
       "      <td>2020-01-07</td>\n",
       "      <td>1913.890015</td>\n",
       "      <td>1892.040039</td>\n",
       "      <td>1904.500000</td>\n",
       "      <td>1906.859985</td>\n",
       "      <td>4044900</td>\n",
       "      <td>1906.859985</td>\n",
       "    </tr>\n",
       "    <tr>\n",
       "      <th>4</th>\n",
       "      <td>2020-01-08</td>\n",
       "      <td>1911.000000</td>\n",
       "      <td>1886.439941</td>\n",
       "      <td>1898.040039</td>\n",
       "      <td>1891.969971</td>\n",
       "      <td>3508000</td>\n",
       "      <td>1891.969971</td>\n",
       "    </tr>\n",
       "  </tbody>\n",
       "</table>\n",
       "</div>"
      ],
      "text/plain": [
       "        Date         High          Low         Open        Close   Volume  \\\n",
       "0 2020-01-02  1898.010010  1864.150024  1875.000000  1898.010010  4029000   \n",
       "1 2020-01-03  1886.199951  1864.500000  1864.500000  1874.969971  3764400   \n",
       "2 2020-01-06  1903.689941  1860.000000  1860.000000  1902.880005  4061800   \n",
       "3 2020-01-07  1913.890015  1892.040039  1904.500000  1906.859985  4044900   \n",
       "4 2020-01-08  1911.000000  1886.439941  1898.040039  1891.969971  3508000   \n",
       "\n",
       "     Adj Close  \n",
       "0  1898.010010  \n",
       "1  1874.969971  \n",
       "2  1902.880005  \n",
       "3  1906.859985  \n",
       "4  1891.969971  "
      ]
     },
     "execution_count": 5,
     "metadata": {},
     "output_type": "execute_result"
    }
   ],
   "source": [
    "Amazon.reset_index(inplace=True)\n",
    "Facebook.reset_index(inplace=True)\n",
    "Google.reset_index(inplace=True)\n",
    "Microsoft.reset_index(inplace=True)\n",
    "Twitter.reset_index(inplace=True)\n",
    "Apple.reset_index(inplace=True)\n",
    "\n",
    "Amazon.head()"
   ]
  },
  {
   "cell_type": "markdown",
   "metadata": {},
   "source": [
    "# Method 2"
   ]
  },
  {
   "cell_type": "code",
   "execution_count": null,
   "metadata": {
    "scrolled": true
   },
   "outputs": [],
   "source": [
    "!pip install yfinance\n",
    "import yfinance as yfin\n",
    "yfin.pdr_override()\n"
   ]
  },
  {
   "cell_type": "code",
   "execution_count": null,
   "metadata": {},
   "outputs": [],
   "source": [
    "AMZN = data.get_data_yahoo(\"AMZN\", start=start, end=end)\n",
    "AMZN.head()"
   ]
  },
  {
   "cell_type": "code",
   "execution_count": null,
   "metadata": {},
   "outputs": [],
   "source": [
    "# Could also do this for a Panel Object\n",
    "#df = data.DataReader(['AMZN', 'FB', 'GOOG', 'MSFT', 'TWTR', 'AAPL'],'yahoo', start, end)\n",
    "#df.head"
   ]
  },
  {
   "cell_type": "markdown",
   "metadata": {},
   "source": [
    "##### Add a Column_Company Name (this is filled out for you)"
   ]
  },
  {
   "cell_type": "code",
   "execution_count": 5,
   "metadata": {},
   "outputs": [],
   "source": [
    "Amazon[\"Company\"]='Amazon'\n",
    "Facebook[\"Company\"]='Facebook'\n",
    "Microsoft[\"Company\"]='Microsoft'\n",
    "Twitter[\"Company\"]='Twitter'\n",
    "Apple[\"Company\"]='Apple'\n",
    "Google[\"Company\"]='Google'"
   ]
  },
  {
   "cell_type": "markdown",
   "metadata": {},
   "source": [
    "##### Draw the closing prices of Amazon"
   ]
  },
  {
   "cell_type": "code",
   "execution_count": 6,
   "metadata": {},
   "outputs": [
    {
     "data": {
      "text/plain": [
       "[<matplotlib.lines.Line2D at 0x1e6c45a64c0>]"
      ]
     },
     "execution_count": 6,
     "metadata": {},
     "output_type": "execute_result"
    },
    {
     "data": {
      "image/png": "[encoded data removed]",
      "text/plain": [
       "<Figure size 432x288 with 1 Axes>"
      ]
     },
     "metadata": {
      "needs_background": "light"
     },
     "output_type": "display_data"
    }
   ],
   "source": [
    "import matplotlib.pyplot as plt\n",
    "\n",
    "plt.plot(Amazon[\"Close\"])"
   ]
  },
  {
   "cell_type": "markdown",
   "metadata": {},
   "source": [
    "##### Append all the data sets - these six tables"
   ]
  },
  {
   "cell_type": "code",
   "execution_count": 7,
   "metadata": {},
   "outputs": [
    {
     "data": {
      "text/plain": [
       "6"
      ]
     },
     "execution_count": 7,
     "metadata": {},
     "output_type": "execute_result"
    }
   ],
   "source": [
    "final_df = Amazon.append(Facebook).append(Microsoft).append(Twitter).append(Apple).append(Google)\n",
    "final_df[\"Company\"].nunique()"
   ]
  },
  {
   "cell_type": "markdown",
   "metadata": {},
   "source": [
    "##### Derive the average closing price for each company"
   ]
  },
  {
   "cell_type": "code",
   "execution_count": 8,
   "metadata": {},
   "outputs": [],
   "source": [
    "avg_closing_price_Amazon = Amazon[\"Close\"].mean()\n",
    "avg_closing_price_Facebook = Facebook[\"Close\"].mean()\n",
    "avg_closing_price_Microsoft = Microsoft[\"Close\"].mean()\n",
    "avg_closing_price_Twitter = Twitter[\"Close\"].mean()\n",
    "avg_closing_price_Apple = Apple[\"Close\"].mean()\n",
    "avg_closing_price_Google = Google[\"Close\"].mean()"
   ]
  },
  {
   "cell_type": "code",
   "execution_count": 9,
   "metadata": {},
   "outputs": [
    {
     "name": "stdout",
     "output_type": "stream",
     "text": [
      "[2680.8550957841835, 234.55086984747484, 193.02612642431447, 37.215770691279836, 95.34707487807444, 1481.4038110062068]\n"
     ]
    }
   ],
   "source": [
    "closing_price_list = [avg_closing_price_Amazon, avg_closing_price_Facebook, avg_closing_price_Microsoft, avg_closing_price_Twitter, avg_closing_price_Apple, avg_closing_price_Google]\n",
    "print(closing_price_list)"
   ]
  },
  {
   "cell_type": "markdown",
   "metadata": {},
   "source": [
    "##### Plot the average closing price for each company using matplotlib or other visualization libraries.\n"
   ]
  },
  {
   "cell_type": "code",
   "execution_count": 10,
   "metadata": {},
   "outputs": [
    {
     "data": {
      "text/plain": [
       "<BarContainer object of 6 artists>"
      ]
     },
     "execution_count": 10,
     "metadata": {},
     "output_type": "execute_result"
    },
    {
     "data": {
      "image/png": "[encoded data removed]",
      "text/plain": [
       "<Figure size 432x288 with 1 Axes>"
      ]
     },
     "metadata": {
      "needs_background": "light"
     },
     "output_type": "display_data"
    }
   ],
   "source": [
    "plt.bar([\"Amazon\",\"Facebook\",\"Microsoft\",\"Twitter\",\"Apple\",\"Google\"],height=closing_price_list)"
   ]
  },
  {
   "cell_type": "markdown",
   "metadata": {},
   "source": [
    "\n",
    "** What is the max Close price for each company's stock throughout the time period?**"
   ]
  },
  {
   "cell_type": "code",
   "execution_count": 11,
   "metadata": {},
   "outputs": [],
   "source": [
    "max_closing_price_Amazon = Amazon[\"Close\"].max()\n",
    "max_closing_price_Facebook = Facebook[\"Close\"].max()\n",
    "max_closing_price_Microsoft = Microsoft[\"Close\"].max()\n",
    "max_closing_price_Twitter = Twitter[\"Close\"].max()\n",
    "max_closing_price_Apple = Apple[\"Close\"].max()\n",
    "max_closing_price_Google = Google[\"Close\"].max()"
   ]
  },
  {
   "cell_type": "markdown",
   "metadata": {},
   "source": [
    "** Create a new dataframe called returns. This dataframe will contain the returns for each company's stock. returns are typically defined by:**\n",
    "\n",
    "$$r_t = \\frac{p_t - p_{t-1}}{p_{t-1}} = \\frac{p_t}{p_{t-1}} - 1$$"
   ]
  },
  {
   "cell_type": "markdown",
   "metadata": {},
   "source": [
    "** We can use pandas pct_change() method on the Close column to create a new dataframe representing this return value. Use .groupby().**"
   ]
  },
  {
   "cell_type": "code",
   "execution_count": 12,
   "metadata": {},
   "outputs": [],
   "source": [
    "pd.set_option('display.max_rows', None)\n",
    "returns = final_df.groupby([\"Company\"])[\"Close\"].pct_change()"
   ]
  },
  {
   "cell_type": "markdown",
   "metadata": {},
   "source": [
    "** Using this returns DataFrame, figure out on what dates each company stock had the best and worst single day returns. Did anything significant happen that day?**"
   ]
  },
  {
   "cell_type": "code",
   "execution_count": 13,
   "metadata": {},
   "outputs": [
    {
     "name": "stdout",
     "output_type": "stream",
     "text": [
      "Amazon\n",
      "Date\n",
      "2020-07-20    0.079295\n",
      "Name: Close, dtype: float64\n",
      "Date\n",
      "2020-03-12   -0.079221\n",
      "Name: Close, dtype: float64\n",
      "\n",
      "\n",
      "Facebook\n",
      "Date\n",
      "2020-03-13    0.10235\n",
      "Name: Close, dtype: float64\n",
      "Date\n",
      "2020-03-16   -0.14253\n",
      "Name: Close, dtype: float64\n",
      "\n",
      "\n",
      "Microsoft\n",
      "Date\n",
      "2020-03-13    0.142169\n",
      "Name: Close, dtype: float64\n",
      "Date\n",
      "2020-03-16   -0.14739\n",
      "Name: Close, dtype: float64\n",
      "\n",
      "\n",
      "Twitter\n",
      "Date\n",
      "2020-02-06    0.150344\n",
      "Name: Close, dtype: float64\n",
      "Date\n",
      "2020-10-30   -0.211139\n",
      "Name: Close, dtype: float64\n",
      "\n",
      "\n",
      "Apple\n",
      "Date\n",
      "2020-03-13    0.119808\n",
      "Name: Close, dtype: float64\n",
      "Date\n",
      "2020-03-16   -0.128647\n",
      "Name: Close, dtype: float64\n",
      "\n",
      "\n",
      "Google\n",
      "Date\n",
      "2020-03-13    0.094017\n",
      "Name: Close, dtype: float64\n",
      "Date\n",
      "2020-03-16   -0.111008\n",
      "Name: Close, dtype: float64\n",
      "\n",
      "\n"
     ]
    }
   ],
   "source": [
    "Amazon_max=returns[0:253][returns[0:253]==returns[0:253].max()] #Amazon max\n",
    "Amazon_min=returns[0:253][returns[0:253]==returns[0:253].min()] #Amazon min\n",
    "\n",
    "Facebook_max=returns[253:506][returns[253:506]==returns[253:506].max()] #Facebook max\n",
    "Facebook_min=returns[253:506][returns[253:506]==returns[253:506].min()] #Facebook min\n",
    "\n",
    "Microsoft_max=returns[506:759][returns[506:759]==returns[506:759].max()] #Microsoft max\n",
    "Microsoft_min=returns[506:759][returns[506:759]==returns[506:759].min()] #Microsoft min\n",
    "\n",
    "Twitter_max=returns[759:1012][returns[759:1012]==returns[759:1012].max()] #Twitter max\n",
    "Twitter_min=returns[759:1012][returns[759:1012]==returns[759:1012].min()] #Twitter min\n",
    "\n",
    "Apple_max=returns[1012:1265][returns[1012:1265]==returns[1012:1265].max()] #Apple max\n",
    "Apple_min=returns[1012:1265][returns[1012:1265]==returns[1012:1265].min()] #Apple min\n",
    "\n",
    "Google_max=returns[1265:1518][returns[1265:1518]==returns[1265:1518].max()] #Google max\n",
    "Google_min=returns[1265:1518][returns[1265:1518]==returns[1265:1518].min()] #Google min\n",
    "\n",
    "print(\"Amazon\")\n",
    "print(Amazon_max)\n",
    "print(Amazon_min)\n",
    "print(\"\\n\")\n",
    "\n",
    "print(\"Facebook\")\n",
    "print(Facebook_max)\n",
    "print(Facebook_min)\n",
    "print(\"\\n\")\n",
    "\n",
    "print(\"Microsoft\")\n",
    "print(Microsoft_max)\n",
    "print(Microsoft_min)\n",
    "print(\"\\n\")\n",
    "\n",
    "print(\"Twitter\")\n",
    "print(Twitter_max)\n",
    "print(Twitter_min)\n",
    "print(\"\\n\")\n",
    "\n",
    "print(\"Apple\")\n",
    "print(Apple_max)\n",
    "print(Apple_min)\n",
    "print(\"\\n\")\n",
    "\n",
    "print(\"Google\")\n",
    "print(Google_max)\n",
    "print(Google_min)\n",
    "print(\"\\n\")"
   ]
  },
  {
   "cell_type": "markdown",
   "metadata": {},
   "source": [
    "** Please state here what you have noticed. Did anything significant happen in that time frame? **"
   ]
  },
  {
   "cell_type": "markdown",
   "metadata": {},
   "source": [
    "It can be noticed that Facebook, Microsoft, Apple and Google had their best single day returns on 13th March 2020. This was the day that the President of the United States declared a National Emergency concerning the Novel Coronavirus Disease Outbreak.\n",
    "\n",
    "It can be noticed that Google, Apple, Microsoft and Facebook had their worst single day return on 16th March 2020. This was the day that the Dow Jones Industrial Average fell by 2,997.10, the single largest point drop in history and the second-largest percentage drop ever."
   ]
  },
  {
   "cell_type": "markdown",
   "metadata": {},
   "source": [
    "** Take a look at the standard deviation of the returns, which stock would you classify as the riskiest over the entire time period? **"
   ]
  },
  {
   "cell_type": "code",
   "execution_count": 14,
   "metadata": {},
   "outputs": [
    {
     "data": {
      "text/plain": [
       "0.038996215467204984"
      ]
     },
     "execution_count": 14,
     "metadata": {},
     "output_type": "execute_result"
    }
   ],
   "source": [
    "Amazon_stddev=returns[0:253].std()\n",
    "\n",
    "Facebook_stddev=returns[253:506].std() \n",
    "\n",
    "Microsoft_stddev=returns[506:759].std()\n",
    "\n",
    "Twitter_stddev=returns[759:1012].std()\n",
    "\n",
    "Apple_stddev=returns[1012:1265].std()\n",
    "\n",
    "Google_stddev=returns[1265:1518].std()\n",
    "\n",
    "list_of_std_devs = [Amazon_stddev,Facebook_stddev,Microsoft_stddev,Twitter_stddev,Apple_stddev,Google_stddev]\n",
    "\n",
    "max(list_of_std_devs)"
   ]
  },
  {
   "cell_type": "markdown",
   "metadata": {},
   "source": [
    "Twitter has the highest standard deviation and thus is the riskiest over the entire time period"
   ]
  },
  {
   "cell_type": "markdown",
   "metadata": {},
   "source": [
    "** Which company would you classify as the most profitable for the year 2020? **"
   ]
  },
  {
   "cell_type": "code",
   "execution_count": 16,
   "metadata": {},
   "outputs": [
    {
     "name": "stdout",
     "output_type": "stream",
     "text": [
      "Amazon\n",
      "\n",
      "0.7159708931370734\n",
      "\n",
      "\n",
      "Facebook\n",
      "\n",
      "0.3021260618343919\n",
      "\n",
      "\n",
      "Microsoft\n",
      "\n",
      "0.3847590893441932\n",
      "\n",
      "\n",
      "Twitter\n",
      "\n",
      "0.6764706750750628\n",
      "\n",
      "\n",
      "Apple\n",
      "\n",
      "0.7671383352084853\n",
      "\n",
      "\n",
      "Google\n",
      "\n",
      "0.28120407142082376\n",
      "\n",
      "\n"
     ]
    }
   ],
   "source": [
    "print(\"Amazon\\n\")\n",
    "print(str((Amazon[\"Close\"][252]-Amazon[\"Close\"][0])/Amazon[\"Close\"][0]))\n",
    "print(\"\\n\")\n",
    "print(\"Facebook\\n\")\n",
    "print(str((Facebook[\"Close\"][252]-Facebook[\"Close\"][0])/Facebook[\"Close\"][0]))\n",
    "print(\"\\n\")\n",
    "print(\"Microsoft\\n\")\n",
    "print(str((Microsoft[\"Close\"][252]-Microsoft[\"Close\"][0])/Microsoft[\"Close\"][0]))\n",
    "print(\"\\n\")\n",
    "print(\"Twitter\\n\")\n",
    "print(str((Twitter[\"Close\"][252]-Twitter[\"Close\"][0])/Twitter[\"Close\"][0]))\n",
    "print(\"\\n\")\n",
    "print(\"Apple\\n\")\n",
    "print(str((Apple[\"Close\"][252]-Apple[\"Close\"][0])/Apple[\"Close\"][0]))\n",
    "print(\"\\n\")\n",
    "print(\"Google\\n\")\n",
    "print(str((Google[\"Close\"][252]-Google[\"Close\"][0])/Google[\"Close\"][0]))\n",
    "print(\"\\n\")"
   ]
  },
  {
   "cell_type": "markdown",
   "metadata": {},
   "source": [
    "When we take the difference between the first and last closing prices and divide it by the first closing price, we see that the value is the highest for Apple, so it is the most profitable company for the year 2020."
   ]
  },
  {
   "cell_type": "markdown",
   "metadata": {},
   "source": [
    "** Create a density plot using any library you like to visualize the previous year's return for each company **"
   ]
  },
  {
   "cell_type": "code",
   "execution_count": 17,
   "metadata": {},
   "outputs": [
    {
     "name": "stderr",
     "output_type": "stream",
     "text": [
      "E:\\Users\\hp\\anaconda3\\lib\\site-packages\\seaborn\\distributions.py:1657: FutureWarning: The `bw` parameter is deprecated in favor of `bw_method` and `bw_adjust`. Using 0.5 for `bw_method`, but please see the docs for the new parameters and update your code.\n",
      "  warnings.warn(msg, FutureWarning)\n"
     ]
    },
    {
     "data": {
      "text/plain": [
       "Text(0.5, 1.0, 'Amazon')"
      ]
     },
     "execution_count": 17,
     "metadata": {},
     "output_type": "execute_result"
    },
    {
     "data": {
      "image/png": "[encoded data removed]",
      "text/plain": [
       "<Figure size 432x288 with 1 Axes>"
      ]
     },
     "metadata": {},
     "output_type": "display_data"
    }
   ],
   "source": [
    "import seaborn as sns\n",
    "\n",
    "sns.set_style('whitegrid')\n",
    "sns.kdeplot(np.array(returns[0:253]), bw=0.5).set_title('Amazon')\n"
   ]
  },
  {
   "cell_type": "code",
   "execution_count": 18,
   "metadata": {},
   "outputs": [
    {
     "name": "stderr",
     "output_type": "stream",
     "text": [
      "E:\\Users\\hp\\anaconda3\\lib\\site-packages\\seaborn\\distributions.py:1657: FutureWarning: The `bw` parameter is deprecated in favor of `bw_method` and `bw_adjust`. Using 0.5 for `bw_method`, but please see the docs for the new parameters and update your code.\n",
      "  warnings.warn(msg, FutureWarning)\n"
     ]
    },
    {
     "data": {
      "text/plain": [
       "Text(0.5, 1.0, 'Facebook')"
      ]
     },
     "execution_count": 18,
     "metadata": {},
     "output_type": "execute_result"
    },
    {
     "data": {
      "image/png": "[encoded data removed]",
      "text/plain": [
       "<Figure size 432x288 with 1 Axes>"
      ]
     },
     "metadata": {},
     "output_type": "display_data"
    }
   ],
   "source": [
    "sns.kdeplot(np.array(returns[253:506]), bw=0.5).set_title('Facebook')"
   ]
  },
  {
   "cell_type": "code",
   "execution_count": 19,
   "metadata": {},
   "outputs": [
    {
     "name": "stderr",
     "output_type": "stream",
     "text": [
      "E:\\Users\\hp\\anaconda3\\lib\\site-packages\\seaborn\\distributions.py:1657: FutureWarning: The `bw` parameter is deprecated in favor of `bw_method` and `bw_adjust`. Using 0.5 for `bw_method`, but please see the docs for the new parameters and update your code.\n",
      "  warnings.warn(msg, FutureWarning)\n"
     ]
    },
    {
     "data": {
      "text/plain": [
       "Text(0.5, 1.0, 'Microsoft')"
      ]
     },
     "execution_count": 19,
     "metadata": {},
     "output_type": "execute_result"
    },
    {
     "data": {
      "image/png": "[encoded data removed]",
      "text/plain": [
       "<Figure size 432x288 with 1 Axes>"
      ]
     },
     "metadata": {},
     "output_type": "display_data"
    }
   ],
   "source": [
    "sns.kdeplot(np.array(returns[506:759]), bw=0.5).set_title('Microsoft')\n"
   ]
  },
  {
   "cell_type": "code",
   "execution_count": 20,
   "metadata": {},
   "outputs": [
    {
     "name": "stderr",
     "output_type": "stream",
     "text": [
      "E:\\Users\\hp\\anaconda3\\lib\\site-packages\\seaborn\\distributions.py:1657: FutureWarning: The `bw` parameter is deprecated in favor of `bw_method` and `bw_adjust`. Using 0.5 for `bw_method`, but please see the docs for the new parameters and update your code.\n",
      "  warnings.warn(msg, FutureWarning)\n"
     ]
    },
    {
     "data": {
      "text/plain": [
       "Text(0.5, 1.0, 'Twitter')"
      ]
     },
     "execution_count": 20,
     "metadata": {},
     "output_type": "execute_result"
    },
    {
     "data": {
      "image/png": "[encoded data removed]",
      "text/plain": [
       "<Figure size 432x288 with 1 Axes>"
      ]
     },
     "metadata": {},
     "output_type": "display_data"
    }
   ],
   "source": [
    "sns.kdeplot(np.array(returns[759:1012]), bw=0.5).set_title('Twitter')\n"
   ]
  },
  {
   "cell_type": "code",
   "execution_count": 21,
   "metadata": {},
   "outputs": [
    {
     "name": "stderr",
     "output_type": "stream",
     "text": [
      "E:\\Users\\hp\\anaconda3\\lib\\site-packages\\seaborn\\distributions.py:1657: FutureWarning: The `bw` parameter is deprecated in favor of `bw_method` and `bw_adjust`. Using 0.5 for `bw_method`, but please see the docs for the new parameters and update your code.\n",
      "  warnings.warn(msg, FutureWarning)\n"
     ]
    },
    {
     "data": {
      "text/plain": [
       "Text(0.5, 1.0, 'Apple')"
      ]
     },
     "execution_count": 21,
     "metadata": {},
     "output_type": "execute_result"
    },
    {
     "data": {
      "image/png": "[encoded data removed]",
      "text/plain": [
       "<Figure size 432x288 with 1 Axes>"
      ]
     },
     "metadata": {},
     "output_type": "display_data"
    }
   ],
   "source": [
    "sns.kdeplot(np.array(returns[1012:1265]), bw=0.5).set_title('Apple')\n"
   ]
  },
  {
   "cell_type": "code",
   "execution_count": 22,
   "metadata": {},
   "outputs": [
    {
     "name": "stderr",
     "output_type": "stream",
     "text": [
      "E:\\Users\\hp\\anaconda3\\lib\\site-packages\\seaborn\\distributions.py:1657: FutureWarning: The `bw` parameter is deprecated in favor of `bw_method` and `bw_adjust`. Using 0.5 for `bw_method`, but please see the docs for the new parameters and update your code.\n",
      "  warnings.warn(msg, FutureWarning)\n"
     ]
    },
    {
     "data": {
      "text/plain": [
       "Text(0.5, 1.0, 'Google')"
      ]
     },
     "execution_count": 22,
     "metadata": {},
     "output_type": "execute_result"
    },
    {
     "data": {
      "image/png": "[encoded data removed]",
      "text/plain": [
       "<Figure size 432x288 with 1 Axes>"
      ]
     },
     "metadata": {},
     "output_type": "display_data"
    }
   ],
   "source": [
    "sns.kdeplot(np.array(returns[1265:1518]), bw=0.5).set_title('Google')"
   ]
  },
  {
   "cell_type": "markdown",
   "metadata": {},
   "source": [
    "### Moving Averages\n",
    "\n",
    "** Please derive the moving averages for these stocks in the year 2020. Use .rolling() in pandas to get the rolling average calculation. ** \n",
    "\n"
   ]
  },
  {
   "cell_type": "code",
   "execution_count": 23,
   "metadata": {},
   "outputs": [],
   "source": [
    "Amazon['MA30'] = Amazon['Close'].rolling(30).mean()\n",
    "Facebook['MA30'] = Facebook['Close'].rolling(30).mean()\n",
    "Microsoft['MA30'] = Microsoft['Close'].rolling(30).mean()\n",
    "Twitter['MA30'] = Twitter['Close'].rolling(30).mean()\n",
    "Apple['MA30'] = Apple['Close'].rolling(30).mean()\n",
    "Google['MA30'] = Google['Close'].rolling(30).mean()\n"
   ]
  },
  {
   "cell_type": "code",
   "execution_count": 24,
   "metadata": {},
   "outputs": [
    {
     "data": {
      "text/html": [
       "<div>\n",
       "<style scoped>\n",
       "    .dataframe tbody tr th:only-of-type {\n",
       "        vertical-align: middle;\n",
       "    }\n",
       "\n",
       "    .dataframe tbody tr th {\n",
       "        vertical-align: top;\n",
       "    }\n",
       "\n",
       "    .dataframe thead th {\n",
       "        text-align: right;\n",
       "    }\n",
       "</style>\n",
       "<table border=\"1\" class=\"dataframe\">\n",
       "  <thead>\n",
       "    <tr style=\"text-align: right;\">\n",
       "      <th></th>\n",
       "      <th>High</th>\n",
       "      <th>Low</th>\n",
       "      <th>Open</th>\n",
       "      <th>Close</th>\n",
       "      <th>Volume</th>\n",
       "      <th>Adj Close</th>\n",
       "      <th>Company</th>\n",
       "      <th>MA30</th>\n",
       "    </tr>\n",
       "    <tr>\n",
       "      <th>Date</th>\n",
       "      <th></th>\n",
       "      <th></th>\n",
       "      <th></th>\n",
       "      <th></th>\n",
       "      <th></th>\n",
       "      <th></th>\n",
       "      <th></th>\n",
       "      <th></th>\n",
       "    </tr>\n",
       "  </thead>\n",
       "  <tbody>\n",
       "    <tr>\n",
       "      <th>2020-01-02</th>\n",
       "      <td>75.150002</td>\n",
       "      <td>73.797501</td>\n",
       "      <td>74.059998</td>\n",
       "      <td>75.087502</td>\n",
       "      <td>135480400.0</td>\n",
       "      <td>74.096458</td>\n",
       "      <td>Apple</td>\n",
       "      <td>NaN</td>\n",
       "    </tr>\n",
       "    <tr>\n",
       "      <th>2020-01-03</th>\n",
       "      <td>75.144997</td>\n",
       "      <td>74.125000</td>\n",
       "      <td>74.287498</td>\n",
       "      <td>74.357498</td>\n",
       "      <td>146322800.0</td>\n",
       "      <td>73.376083</td>\n",
       "      <td>Apple</td>\n",
       "      <td>NaN</td>\n",
       "    </tr>\n",
       "    <tr>\n",
       "      <th>2020-01-06</th>\n",
       "      <td>74.989998</td>\n",
       "      <td>73.187500</td>\n",
       "      <td>73.447502</td>\n",
       "      <td>74.949997</td>\n",
       "      <td>118387200.0</td>\n",
       "      <td>73.960770</td>\n",
       "      <td>Apple</td>\n",
       "      <td>NaN</td>\n",
       "    </tr>\n",
       "    <tr>\n",
       "      <th>2020-01-07</th>\n",
       "      <td>75.224998</td>\n",
       "      <td>74.370003</td>\n",
       "      <td>74.959999</td>\n",
       "      <td>74.597504</td>\n",
       "      <td>108872000.0</td>\n",
       "      <td>73.612923</td>\n",
       "      <td>Apple</td>\n",
       "      <td>NaN</td>\n",
       "    </tr>\n",
       "    <tr>\n",
       "      <th>2020-01-08</th>\n",
       "      <td>76.110001</td>\n",
       "      <td>74.290001</td>\n",
       "      <td>74.290001</td>\n",
       "      <td>75.797501</td>\n",
       "      <td>132079200.0</td>\n",
       "      <td>74.797081</td>\n",
       "      <td>Apple</td>\n",
       "      <td>NaN</td>\n",
       "    </tr>\n",
       "    <tr>\n",
       "      <th>2020-01-09</th>\n",
       "      <td>77.607498</td>\n",
       "      <td>76.550003</td>\n",
       "      <td>76.809998</td>\n",
       "      <td>77.407501</td>\n",
       "      <td>170108400.0</td>\n",
       "      <td>76.385834</td>\n",
       "      <td>Apple</td>\n",
       "      <td>NaN</td>\n",
       "    </tr>\n",
       "    <tr>\n",
       "      <th>2020-01-10</th>\n",
       "      <td>78.167503</td>\n",
       "      <td>77.062500</td>\n",
       "      <td>77.650002</td>\n",
       "      <td>77.582497</td>\n",
       "      <td>140644800.0</td>\n",
       "      <td>76.558517</td>\n",
       "      <td>Apple</td>\n",
       "      <td>NaN</td>\n",
       "    </tr>\n",
       "    <tr>\n",
       "      <th>2020-01-13</th>\n",
       "      <td>79.267502</td>\n",
       "      <td>77.787498</td>\n",
       "      <td>77.910004</td>\n",
       "      <td>79.239998</td>\n",
       "      <td>121532000.0</td>\n",
       "      <td>78.194138</td>\n",
       "      <td>Apple</td>\n",
       "      <td>NaN</td>\n",
       "    </tr>\n",
       "    <tr>\n",
       "      <th>2020-01-14</th>\n",
       "      <td>79.392502</td>\n",
       "      <td>78.042503</td>\n",
       "      <td>79.175003</td>\n",
       "      <td>78.169998</td>\n",
       "      <td>161954400.0</td>\n",
       "      <td>77.138268</td>\n",
       "      <td>Apple</td>\n",
       "      <td>NaN</td>\n",
       "    </tr>\n",
       "    <tr>\n",
       "      <th>2020-01-15</th>\n",
       "      <td>78.875000</td>\n",
       "      <td>77.387497</td>\n",
       "      <td>77.962502</td>\n",
       "      <td>77.834999</td>\n",
       "      <td>121923600.0</td>\n",
       "      <td>76.807693</td>\n",
       "      <td>Apple</td>\n",
       "      <td>NaN</td>\n",
       "    </tr>\n",
       "    <tr>\n",
       "      <th>2020-01-16</th>\n",
       "      <td>78.925003</td>\n",
       "      <td>78.022499</td>\n",
       "      <td>78.397499</td>\n",
       "      <td>78.809998</td>\n",
       "      <td>108829200.0</td>\n",
       "      <td>77.769821</td>\n",
       "      <td>Apple</td>\n",
       "      <td>NaN</td>\n",
       "    </tr>\n",
       "    <tr>\n",
       "      <th>2020-01-17</th>\n",
       "      <td>79.684998</td>\n",
       "      <td>78.750000</td>\n",
       "      <td>79.067497</td>\n",
       "      <td>79.682503</td>\n",
       "      <td>137816400.0</td>\n",
       "      <td>78.630821</td>\n",
       "      <td>Apple</td>\n",
       "      <td>NaN</td>\n",
       "    </tr>\n",
       "    <tr>\n",
       "      <th>2020-01-21</th>\n",
       "      <td>79.754997</td>\n",
       "      <td>79.000000</td>\n",
       "      <td>79.297501</td>\n",
       "      <td>79.142502</td>\n",
       "      <td>110843200.0</td>\n",
       "      <td>78.097939</td>\n",
       "      <td>Apple</td>\n",
       "      <td>NaN</td>\n",
       "    </tr>\n",
       "    <tr>\n",
       "      <th>2020-01-22</th>\n",
       "      <td>79.997498</td>\n",
       "      <td>79.327499</td>\n",
       "      <td>79.644997</td>\n",
       "      <td>79.425003</td>\n",
       "      <td>101832400.0</td>\n",
       "      <td>78.376701</td>\n",
       "      <td>Apple</td>\n",
       "      <td>NaN</td>\n",
       "    </tr>\n",
       "    <tr>\n",
       "      <th>2020-01-23</th>\n",
       "      <td>79.889999</td>\n",
       "      <td>78.912498</td>\n",
       "      <td>79.480003</td>\n",
       "      <td>79.807503</td>\n",
       "      <td>104472000.0</td>\n",
       "      <td>78.754150</td>\n",
       "      <td>Apple</td>\n",
       "      <td>NaN</td>\n",
       "    </tr>\n",
       "    <tr>\n",
       "      <th>2020-01-24</th>\n",
       "      <td>80.832497</td>\n",
       "      <td>79.379997</td>\n",
       "      <td>80.062500</td>\n",
       "      <td>79.577499</td>\n",
       "      <td>146537600.0</td>\n",
       "      <td>78.527184</td>\n",
       "      <td>Apple</td>\n",
       "      <td>NaN</td>\n",
       "    </tr>\n",
       "    <tr>\n",
       "      <th>2020-01-27</th>\n",
       "      <td>77.942497</td>\n",
       "      <td>76.220001</td>\n",
       "      <td>77.514999</td>\n",
       "      <td>77.237503</td>\n",
       "      <td>161940000.0</td>\n",
       "      <td>76.218079</td>\n",
       "      <td>Apple</td>\n",
       "      <td>NaN</td>\n",
       "    </tr>\n",
       "    <tr>\n",
       "      <th>2020-01-28</th>\n",
       "      <td>79.599998</td>\n",
       "      <td>78.047501</td>\n",
       "      <td>78.150002</td>\n",
       "      <td>79.422501</td>\n",
       "      <td>162234000.0</td>\n",
       "      <td>78.374245</td>\n",
       "      <td>Apple</td>\n",
       "      <td>NaN</td>\n",
       "    </tr>\n",
       "    <tr>\n",
       "      <th>2020-01-29</th>\n",
       "      <td>81.962502</td>\n",
       "      <td>80.345001</td>\n",
       "      <td>81.112503</td>\n",
       "      <td>81.084999</td>\n",
       "      <td>216229200.0</td>\n",
       "      <td>80.014793</td>\n",
       "      <td>Apple</td>\n",
       "      <td>NaN</td>\n",
       "    </tr>\n",
       "    <tr>\n",
       "      <th>2020-01-30</th>\n",
       "      <td>81.022499</td>\n",
       "      <td>79.687500</td>\n",
       "      <td>80.135002</td>\n",
       "      <td>80.967499</td>\n",
       "      <td>126743200.0</td>\n",
       "      <td>79.898834</td>\n",
       "      <td>Apple</td>\n",
       "      <td>NaN</td>\n",
       "    </tr>\n",
       "    <tr>\n",
       "      <th>2020-01-31</th>\n",
       "      <td>80.669998</td>\n",
       "      <td>77.072502</td>\n",
       "      <td>80.232498</td>\n",
       "      <td>77.377502</td>\n",
       "      <td>199588400.0</td>\n",
       "      <td>76.356232</td>\n",
       "      <td>Apple</td>\n",
       "      <td>NaN</td>\n",
       "    </tr>\n",
       "    <tr>\n",
       "      <th>2020-02-03</th>\n",
       "      <td>78.372498</td>\n",
       "      <td>75.555000</td>\n",
       "      <td>76.074997</td>\n",
       "      <td>77.165001</td>\n",
       "      <td>173788400.0</td>\n",
       "      <td>76.146523</td>\n",
       "      <td>Apple</td>\n",
       "      <td>NaN</td>\n",
       "    </tr>\n",
       "    <tr>\n",
       "      <th>2020-02-04</th>\n",
       "      <td>79.910004</td>\n",
       "      <td>78.407501</td>\n",
       "      <td>78.827499</td>\n",
       "      <td>79.712502</td>\n",
       "      <td>136616400.0</td>\n",
       "      <td>78.660416</td>\n",
       "      <td>Apple</td>\n",
       "      <td>NaN</td>\n",
       "    </tr>\n",
       "    <tr>\n",
       "      <th>2020-02-05</th>\n",
       "      <td>81.190002</td>\n",
       "      <td>79.737503</td>\n",
       "      <td>80.879997</td>\n",
       "      <td>80.362503</td>\n",
       "      <td>118826800.0</td>\n",
       "      <td>79.301842</td>\n",
       "      <td>Apple</td>\n",
       "      <td>NaN</td>\n",
       "    </tr>\n",
       "    <tr>\n",
       "      <th>2020-02-06</th>\n",
       "      <td>81.305000</td>\n",
       "      <td>80.065002</td>\n",
       "      <td>80.642502</td>\n",
       "      <td>81.302498</td>\n",
       "      <td>105425600.0</td>\n",
       "      <td>80.229431</td>\n",
       "      <td>Apple</td>\n",
       "      <td>NaN</td>\n",
       "    </tr>\n",
       "    <tr>\n",
       "      <th>2020-02-07</th>\n",
       "      <td>80.849998</td>\n",
       "      <td>79.500000</td>\n",
       "      <td>80.592499</td>\n",
       "      <td>80.007500</td>\n",
       "      <td>117684000.0</td>\n",
       "      <td>79.138893</td>\n",
       "      <td>Apple</td>\n",
       "      <td>NaN</td>\n",
       "    </tr>\n",
       "    <tr>\n",
       "      <th>2020-02-10</th>\n",
       "      <td>80.387497</td>\n",
       "      <td>78.462502</td>\n",
       "      <td>78.544998</td>\n",
       "      <td>80.387497</td>\n",
       "      <td>109348800.0</td>\n",
       "      <td>79.514763</td>\n",
       "      <td>Apple</td>\n",
       "      <td>NaN</td>\n",
       "    </tr>\n",
       "    <tr>\n",
       "      <th>2020-02-11</th>\n",
       "      <td>80.974998</td>\n",
       "      <td>79.677498</td>\n",
       "      <td>80.900002</td>\n",
       "      <td>79.902496</td>\n",
       "      <td>94323200.0</td>\n",
       "      <td>79.035027</td>\n",
       "      <td>Apple</td>\n",
       "      <td>NaN</td>\n",
       "    </tr>\n",
       "    <tr>\n",
       "      <th>2020-02-12</th>\n",
       "      <td>81.805000</td>\n",
       "      <td>80.367500</td>\n",
       "      <td>80.367500</td>\n",
       "      <td>81.800003</td>\n",
       "      <td>113730400.0</td>\n",
       "      <td>80.911934</td>\n",
       "      <td>Apple</td>\n",
       "      <td>NaN</td>\n",
       "    </tr>\n",
       "    <tr>\n",
       "      <th>2020-02-13</th>\n",
       "      <td>81.555000</td>\n",
       "      <td>80.837502</td>\n",
       "      <td>81.047501</td>\n",
       "      <td>81.217499</td>\n",
       "      <td>94747600.0</td>\n",
       "      <td>80.335754</td>\n",
       "      <td>Apple</td>\n",
       "      <td>78.64725</td>\n",
       "    </tr>\n",
       "  </tbody>\n",
       "</table>\n",
       "</div>"
      ],
      "text/plain": [
       "                 High        Low       Open      Close       Volume  \\\n",
       "Date                                                                  \n",
       "2020-01-02  75.150002  73.797501  74.059998  75.087502  135480400.0   \n",
       "2020-01-03  75.144997  74.125000  74.287498  74.357498  146322800.0   \n",
       "2020-01-06  74.989998  73.187500  73.447502  74.949997  118387200.0   \n",
       "2020-01-07  75.224998  74.370003  74.959999  74.597504  108872000.0   \n",
       "2020-01-08  76.110001  74.290001  74.290001  75.797501  132079200.0   \n",
       "2020-01-09  77.607498  76.550003  76.809998  77.407501  170108400.0   \n",
       "2020-01-10  78.167503  77.062500  77.650002  77.582497  140644800.0   \n",
       "2020-01-13  79.267502  77.787498  77.910004  79.239998  121532000.0   \n",
       "2020-01-14  79.392502  78.042503  79.175003  78.169998  161954400.0   \n",
       "2020-01-15  78.875000  77.387497  77.962502  77.834999  121923600.0   \n",
       "2020-01-16  78.925003  78.022499  78.397499  78.809998  108829200.0   \n",
       "2020-01-17  79.684998  78.750000  79.067497  79.682503  137816400.0   \n",
       "2020-01-21  79.754997  79.000000  79.297501  79.142502  110843200.0   \n",
       "2020-01-22  79.997498  79.327499  79.644997  79.425003  101832400.0   \n",
       "2020-01-23  79.889999  78.912498  79.480003  79.807503  104472000.0   \n",
       "2020-01-24  80.832497  79.379997  80.062500  79.577499  146537600.0   \n",
       "2020-01-27  77.942497  76.220001  77.514999  77.237503  161940000.0   \n",
       "2020-01-28  79.599998  78.047501  78.150002  79.422501  162234000.0   \n",
       "2020-01-29  81.962502  80.345001  81.112503  81.084999  216229200.0   \n",
       "2020-01-30  81.022499  79.687500  80.135002  80.967499  126743200.0   \n",
       "2020-01-31  80.669998  77.072502  80.232498  77.377502  199588400.0   \n",
       "2020-02-03  78.372498  75.555000  76.074997  77.165001  173788400.0   \n",
       "2020-02-04  79.910004  78.407501  78.827499  79.712502  136616400.0   \n",
       "2020-02-05  81.190002  79.737503  80.879997  80.362503  118826800.0   \n",
       "2020-02-06  81.305000  80.065002  80.642502  81.302498  105425600.0   \n",
       "2020-02-07  80.849998  79.500000  80.592499  80.007500  117684000.0   \n",
       "2020-02-10  80.387497  78.462502  78.544998  80.387497  109348800.0   \n",
       "2020-02-11  80.974998  79.677498  80.900002  79.902496   94323200.0   \n",
       "2020-02-12  81.805000  80.367500  80.367500  81.800003  113730400.0   \n",
       "2020-02-13  81.555000  80.837502  81.047501  81.217499   94747600.0   \n",
       "\n",
       "            Adj Close Company      MA30  \n",
       "Date                                     \n",
       "2020-01-02  74.096458   Apple       NaN  \n",
       "2020-01-03  73.376083   Apple       NaN  \n",
       "2020-01-06  73.960770   Apple       NaN  \n",
       "2020-01-07  73.612923   Apple       NaN  \n",
       "2020-01-08  74.797081   Apple       NaN  \n",
       "2020-01-09  76.385834   Apple       NaN  \n",
       "2020-01-10  76.558517   Apple       NaN  \n",
       "2020-01-13  78.194138   Apple       NaN  \n",
       "2020-01-14  77.138268   Apple       NaN  \n",
       "2020-01-15  76.807693   Apple       NaN  \n",
       "2020-01-16  77.769821   Apple       NaN  \n",
       "2020-01-17  78.630821   Apple       NaN  \n",
       "2020-01-21  78.097939   Apple       NaN  \n",
       "2020-01-22  78.376701   Apple       NaN  \n",
       "2020-01-23  78.754150   Apple       NaN  \n",
       "2020-01-24  78.527184   Apple       NaN  \n",
       "2020-01-27  76.218079   Apple       NaN  \n",
       "2020-01-28  78.374245   Apple       NaN  \n",
       "2020-01-29  80.014793   Apple       NaN  \n",
       "2020-01-30  79.898834   Apple       NaN  \n",
       "2020-01-31  76.356232   Apple       NaN  \n",
       "2020-02-03  76.146523   Apple       NaN  \n",
       "2020-02-04  78.660416   Apple       NaN  \n",
       "2020-02-05  79.301842   Apple       NaN  \n",
       "2020-02-06  80.229431   Apple       NaN  \n",
       "2020-02-07  79.138893   Apple       NaN  \n",
       "2020-02-10  79.514763   Apple       NaN  \n",
       "2020-02-11  79.035027   Apple       NaN  \n",
       "2020-02-12  80.911934   Apple       NaN  \n",
       "2020-02-13  80.335754   Apple  78.64725  "
      ]
     },
     "execution_count": 24,
     "metadata": {},
     "output_type": "execute_result"
    }
   ],
   "source": [
    "Apple.head(30)"
   ]
  },
  {
   "cell_type": "markdown",
   "metadata": {},
   "source": [
    "** Plot the rolling 30 day average against the Close Price for Apple's stock for the year 2020**"
   ]
  },
  {
   "cell_type": "code",
   "execution_count": 38,
   "metadata": {},
   "outputs": [
    {
     "data": {
      "image/png": "[encoded data removed]",
      "text/plain": [
       "<Figure size 432x288 with 1 Axes>"
      ]
     },
     "metadata": {},
     "output_type": "display_data"
    }
   ],
   "source": [
    "plt.plot(Apple.iloc[:,Apple.columns.get_loc(\"MA30\")],Apple.iloc[:,Apple.columns.get_loc(\"Close\")])\n",
    "plt.xlabel(\"30 day Moving Average\")\n",
    "plt.ylabel(\"Close Price\")\n",
    "\n",
    "plt.show()"
   ]
  },
  {
   "cell_type": "markdown",
   "metadata": {},
   "source": [
    "** Create a heatmap of the correlation between the stocks Close Price.**\n"
   ]
  },
  {
   "cell_type": "code",
   "execution_count": 27,
   "metadata": {},
   "outputs": [],
   "source": [
    "Amazon.reset_index(inplace=True)\n",
    "Facebook.reset_index(inplace=True)\n",
    "Google.reset_index(inplace=True)\n",
    "Microsoft.reset_index(inplace=True)\n",
    "Twitter.reset_index(inplace=True)\n",
    "Apple.reset_index(inplace=True)\n",
    "\n",
    "final_df = Amazon.append(Facebook).append(Microsoft).append(Twitter).append(Apple).append(Google)"
   ]
  },
  {
   "cell_type": "code",
   "execution_count": 28,
   "metadata": {},
   "outputs": [
    {
     "data": {
      "text/html": [
       "<div>\n",
       "<style scoped>\n",
       "    .dataframe tbody tr th:only-of-type {\n",
       "        vertical-align: middle;\n",
       "    }\n",
       "\n",
       "    .dataframe tbody tr th {\n",
       "        vertical-align: top;\n",
       "    }\n",
       "\n",
       "    .dataframe thead th {\n",
       "        text-align: right;\n",
       "    }\n",
       "</style>\n",
       "<table border=\"1\" class=\"dataframe\">\n",
       "  <thead>\n",
       "    <tr style=\"text-align: right;\">\n",
       "      <th>Company</th>\n",
       "      <th>Date</th>\n",
       "      <th>Amazon</th>\n",
       "      <th>Apple</th>\n",
       "      <th>Facebook</th>\n",
       "      <th>Google</th>\n",
       "      <th>Microsoft</th>\n",
       "      <th>Twitter</th>\n",
       "    </tr>\n",
       "  </thead>\n",
       "  <tbody>\n",
       "    <tr>\n",
       "      <th>0</th>\n",
       "      <td>2020-01-02</td>\n",
       "      <td>1898.010010</td>\n",
       "      <td>75.087502</td>\n",
       "      <td>209.779999</td>\n",
       "      <td>1367.369995</td>\n",
       "      <td>160.619995</td>\n",
       "      <td>32.299999</td>\n",
       "    </tr>\n",
       "    <tr>\n",
       "      <th>1</th>\n",
       "      <td>2020-01-03</td>\n",
       "      <td>1874.969971</td>\n",
       "      <td>74.357498</td>\n",
       "      <td>208.669998</td>\n",
       "      <td>1360.660034</td>\n",
       "      <td>158.619995</td>\n",
       "      <td>31.520000</td>\n",
       "    </tr>\n",
       "    <tr>\n",
       "      <th>2</th>\n",
       "      <td>2020-01-06</td>\n",
       "      <td>1902.880005</td>\n",
       "      <td>74.949997</td>\n",
       "      <td>212.600006</td>\n",
       "      <td>1394.209961</td>\n",
       "      <td>159.029999</td>\n",
       "      <td>31.639999</td>\n",
       "    </tr>\n",
       "    <tr>\n",
       "      <th>3</th>\n",
       "      <td>2020-01-07</td>\n",
       "      <td>1906.859985</td>\n",
       "      <td>74.597504</td>\n",
       "      <td>213.059998</td>\n",
       "      <td>1393.339966</td>\n",
       "      <td>157.580002</td>\n",
       "      <td>32.540001</td>\n",
       "    </tr>\n",
       "    <tr>\n",
       "      <th>4</th>\n",
       "      <td>2020-01-08</td>\n",
       "      <td>1891.969971</td>\n",
       "      <td>75.797501</td>\n",
       "      <td>215.220001</td>\n",
       "      <td>1404.319946</td>\n",
       "      <td>160.089996</td>\n",
       "      <td>33.049999</td>\n",
       "    </tr>\n",
       "  </tbody>\n",
       "</table>\n",
       "</div>"
      ],
      "text/plain": [
       "Company       Date       Amazon      Apple    Facebook       Google  \\\n",
       "0       2020-01-02  1898.010010  75.087502  209.779999  1367.369995   \n",
       "1       2020-01-03  1874.969971  74.357498  208.669998  1360.660034   \n",
       "2       2020-01-06  1902.880005  74.949997  212.600006  1394.209961   \n",
       "3       2020-01-07  1906.859985  74.597504  213.059998  1393.339966   \n",
       "4       2020-01-08  1891.969971  75.797501  215.220001  1404.319946   \n",
       "\n",
       "Company   Microsoft    Twitter  \n",
       "0        160.619995  32.299999  \n",
       "1        158.619995  31.520000  \n",
       "2        159.029999  31.639999  \n",
       "3        157.580002  32.540001  \n",
       "4        160.089996  33.049999  "
      ]
     },
     "execution_count": 28,
     "metadata": {},
     "output_type": "execute_result"
    }
   ],
   "source": [
    "df_pivot = final_df.pivot('Date','Company','Close').reset_index()\n",
    "df_pivot.head()"
   ]
  },
  {
   "cell_type": "code",
   "execution_count": 29,
   "metadata": {},
   "outputs": [
    {
     "data": {
      "text/html": [
       "<div>\n",
       "<style scoped>\n",
       "    .dataframe tbody tr th:only-of-type {\n",
       "        vertical-align: middle;\n",
       "    }\n",
       "\n",
       "    .dataframe tbody tr th {\n",
       "        vertical-align: top;\n",
       "    }\n",
       "\n",
       "    .dataframe thead th {\n",
       "        text-align: right;\n",
       "    }\n",
       "</style>\n",
       "<table border=\"1\" class=\"dataframe\">\n",
       "  <thead>\n",
       "    <tr style=\"text-align: right;\">\n",
       "      <th>Company</th>\n",
       "      <th>Amazon</th>\n",
       "      <th>Apple</th>\n",
       "      <th>Facebook</th>\n",
       "      <th>Google</th>\n",
       "      <th>Microsoft</th>\n",
       "      <th>Twitter</th>\n",
       "    </tr>\n",
       "    <tr>\n",
       "      <th>Company</th>\n",
       "      <th></th>\n",
       "      <th></th>\n",
       "      <th></th>\n",
       "      <th></th>\n",
       "      <th></th>\n",
       "      <th></th>\n",
       "    </tr>\n",
       "  </thead>\n",
       "  <tbody>\n",
       "    <tr>\n",
       "      <th>Amazon</th>\n",
       "      <td>1.000000</td>\n",
       "      <td>0.920808</td>\n",
       "      <td>0.890986</td>\n",
       "      <td>0.744437</td>\n",
       "      <td>0.962087</td>\n",
       "      <td>0.738880</td>\n",
       "    </tr>\n",
       "    <tr>\n",
       "      <th>Apple</th>\n",
       "      <td>0.920808</td>\n",
       "      <td>1.000000</td>\n",
       "      <td>0.949011</td>\n",
       "      <td>0.867947</td>\n",
       "      <td>0.930717</td>\n",
       "      <td>0.891230</td>\n",
       "    </tr>\n",
       "    <tr>\n",
       "      <th>Facebook</th>\n",
       "      <td>0.890986</td>\n",
       "      <td>0.949011</td>\n",
       "      <td>1.000000</td>\n",
       "      <td>0.906255</td>\n",
       "      <td>0.928479</td>\n",
       "      <td>0.842421</td>\n",
       "    </tr>\n",
       "    <tr>\n",
       "      <th>Google</th>\n",
       "      <td>0.744437</td>\n",
       "      <td>0.867947</td>\n",
       "      <td>0.906255</td>\n",
       "      <td>1.000000</td>\n",
       "      <td>0.842274</td>\n",
       "      <td>0.857050</td>\n",
       "    </tr>\n",
       "    <tr>\n",
       "      <th>Microsoft</th>\n",
       "      <td>0.962087</td>\n",
       "      <td>0.930717</td>\n",
       "      <td>0.928479</td>\n",
       "      <td>0.842274</td>\n",
       "      <td>1.000000</td>\n",
       "      <td>0.790271</td>\n",
       "    </tr>\n",
       "    <tr>\n",
       "      <th>Twitter</th>\n",
       "      <td>0.738880</td>\n",
       "      <td>0.891230</td>\n",
       "      <td>0.842421</td>\n",
       "      <td>0.857050</td>\n",
       "      <td>0.790271</td>\n",
       "      <td>1.000000</td>\n",
       "    </tr>\n",
       "  </tbody>\n",
       "</table>\n",
       "</div>"
      ],
      "text/plain": [
       "Company      Amazon     Apple  Facebook    Google  Microsoft   Twitter\n",
       "Company                                                               \n",
       "Amazon     1.000000  0.920808  0.890986  0.744437   0.962087  0.738880\n",
       "Apple      0.920808  1.000000  0.949011  0.867947   0.930717  0.891230\n",
       "Facebook   0.890986  0.949011  1.000000  0.906255   0.928479  0.842421\n",
       "Google     0.744437  0.867947  0.906255  1.000000   0.842274  0.857050\n",
       "Microsoft  0.962087  0.930717  0.928479  0.842274   1.000000  0.790271\n",
       "Twitter    0.738880  0.891230  0.842421  0.857050   0.790271  1.000000"
      ]
     },
     "execution_count": 29,
     "metadata": {},
     "output_type": "execute_result"
    }
   ],
   "source": [
    "corr_df = df_pivot.corr(method='pearson')\n",
    "corr_df.head().reset_index()\n",
    "corr_df.head(10)"
   ]
  },
  {
   "cell_type": "code",
   "execution_count": 39,
   "metadata": {},
   "outputs": [
    {
     "data": {
      "image/png": "[encoded data removed]",
      "text/plain": [
       "<Figure size 432x288 with 2 Axes>"
      ]
     },
     "metadata": {},
     "output_type": "display_data"
    }
   ],
   "source": [
    "sns.heatmap(corr_df, cmap='icefire_r',annot=True, vmax=1.0, vmin=-1.0 , linewidths=2.5)\n",
    "\n",
    "plt.yticks(rotation=0) \n",
    "plt.xticks(rotation=90) \n",
    "plt.show()"
   ]
  },
  {
   "cell_type": "markdown",
   "metadata": {},
   "source": [
    "# Part 2. \n",
    "\n",
    "Please generate some visualization and analyze some stocks in other industries (you can pick a couple). For instancd, you may analyze how stocks have been doing this year in the airline industry, retail industry, service industry and so forth. Feel free to use any plotting packages (in Python), and generate any types of figures. You may also comment on the generated figures, and explain any insights you have obtained. If you have some background knowlege in financial services, please feel free to apply them."
   ]
  },
  {
   "cell_type": "code",
   "execution_count": 54,
   "metadata": {},
   "outputs": [],
   "source": [
    "airline_list = [\"DAL\",\"LUV\",\"UAL\",\"AAL\"]\n",
    "retail_list = [\"WMT\",\"SHOP\",\"COST\",\"ROST\"]\n",
    "tech_list = ['AAPL','GOOGL','MSFT','AMZN']\n",
    "\n",
    "closingprice_df_tech = data.DataReader(tech_list, 'yahoo', start, end)['Close']\n",
    "closingprice_df_retail = data.DataReader(retail_list, 'yahoo', start, end)['Close']\n",
    "closingprice_df_airline = data.DataReader(airline_list, 'yahoo', start, end)['Close']"
   ]
  },
  {
   "cell_type": "markdown",
   "metadata": {},
   "source": [
    "I decided to make 3 lists representing 3 different industries :- the airline industry, the retail industry and the tech industry. I then populated the lists with 4 representatives."
   ]
  },
  {
   "cell_type": "code",
   "execution_count": 59,
   "metadata": {},
   "outputs": [],
   "source": [
    "returns_tech = closingprice_df_tech.pct_change()\n",
    "returns_retail = closingprice_df_retail.pct_change()\n",
    "returns_airline = closingprice_df_airline.pct_change()"
   ]
  },
  {
   "cell_type": "markdown",
   "metadata": {},
   "source": [
    "For the tech industry I calculated the risk for each stock in the list, represented by the standard deviation of the returns and then I calculated the expected returns, represented by the mean of the returns and then plotted them in a graph."
   ]
  },
  {
   "cell_type": "code",
   "execution_count": 56,
   "metadata": {},
   "outputs": [
    {
     "data": {
      "image/png": "[encoded data removed]",
      "text/plain": [
       "<Figure size 432x288 with 1 Axes>"
      ]
     },
     "metadata": {},
     "output_type": "display_data"
    }
   ],
   "source": [
    "area = np.pi*20\n",
    "\n",
    "plt.scatter(returns_tech.mean(),returns_tech.std(),s=area)\n",
    "\n",
    "plt.xlabel('Expected returns')\n",
    "plt.ylabel('Risk')\n",
    "\n",
    "for label, x, y in zip(returns_tech.columns, returns_tech.mean(), returns_tech.std()):\n",
    "    plt.annotate(\n",
    "        label, \n",
    "        xy = (x, y), xytext = (50, 50),\n",
    "        textcoords = 'offset points', ha = 'right', va = 'bottom',\n",
    "        arrowprops = dict(arrowstyle = 'fancy', connectionstyle = 'arc3,rad=-0.3'))"
   ]
  },
  {
   "cell_type": "markdown",
   "metadata": {},
   "source": [
    "For the tech industries we can see that Apple has the highest expected returns but also has the most risk. On the other hand, Amazon has the second most expected returns but has much less risk."
   ]
  },
  {
   "cell_type": "markdown",
   "metadata": {},
   "source": [
    "For the retail industry I calculated the risk for each stock in the list, represented by the standard deviation of the returns and then I calculated the expected returns, represented by the mean of the returns and then plotted them in a graph."
   ]
  },
  {
   "cell_type": "code",
   "execution_count": 57,
   "metadata": {
    "scrolled": true
   },
   "outputs": [
    {
     "data": {
      "image/png": "[encoded data removed]",
      "text/plain": [
       "<Figure size 432x288 with 1 Axes>"
      ]
     },
     "metadata": {},
     "output_type": "display_data"
    }
   ],
   "source": [
    "area = np.pi*20\n",
    "\n",
    "plt.scatter(returns_retail.mean(),returns_retail.std(),s=area)\n",
    "\n",
    "plt.xlabel('Expected returns')\n",
    "plt.ylabel('Risk')\n",
    "\n",
    "for label, x, y in zip(returns_retail.columns, returns_retail.mean(), returns_retail.std()):\n",
    "    plt.annotate(\n",
    "        label, \n",
    "        xy = (x, y), xytext = (50, 50),\n",
    "        textcoords = 'offset points', ha = 'right', va = 'bottom',\n",
    "        arrowprops = dict(arrowstyle = 'fancy', connectionstyle = 'arc3,rad=-0.3'))"
   ]
  },
  {
   "cell_type": "markdown",
   "metadata": {},
   "source": [
    "For the retail industries, we can see that Shopify has the highest expected returns but also the most risk. Walmart and Costco have got the least expected returns and risk.\n",
    "Also we can see the retail stocks are not as good as the tech stocks but are better than the airline stocks."
   ]
  },
  {
   "cell_type": "markdown",
   "metadata": {},
   "source": [
    "For the airline industry I calculated the risk for each stock in the list, represented by the standard deviation of the returns and then I calculated the expected returns, represented by the mean of the returns and then plotted them in a graph."
   ]
  },
  {
   "cell_type": "code",
   "execution_count": 58,
   "metadata": {},
   "outputs": [
    {
     "data": {
      "image/png": "[encoded data removed]",
      "text/plain": [
       "<Figure size 432x288 with 1 Axes>"
      ]
     },
     "metadata": {},
     "output_type": "display_data"
    }
   ],
   "source": [
    "area = np.pi*20\n",
    "\n",
    "plt.scatter(returns_airline.mean(),returns_airline.std(),s=area)\n",
    "\n",
    "plt.xlabel('Expected returns')\n",
    "plt.ylabel('Risk')\n",
    "\n",
    "for label, x, y in zip(returns_airline.columns, returns_airline.mean(), returns_airline.std()):\n",
    "    plt.annotate(\n",
    "        label, \n",
    "        xy = (x, y), xytext = (50, 50),\n",
    "        textcoords = 'offset points', ha = 'right', va = 'bottom',\n",
    "        arrowprops = dict(arrowstyle = 'fancy', connectionstyle = 'arc3,rad=-0.3'))"
   ]
  },
  {
   "cell_type": "markdown",
   "metadata": {},
   "source": [
    "For the airline industry, we can see that the entities do not have as high a expected return as the other 2 industries. Only LUV(Southwest Airlines Co) and ALK(Alaska Air Group, Inc.) have positive expected returns and all have much higher risk coefficients compared to the retail or tech industries. Among them, LUV seems to be the best option."
   ]
  },
  {
   "cell_type": "markdown",
   "metadata": {},
   "source": [
    "# Great Job!\n"
   ]
  }
 ],
 "metadata": {
  "kernelspec": {
   "display_name": "Python 3",
   "language": "python",
   "name": "python3"
  },
  "language_info": {
   "codemirror_mode": {
    "name": "ipython",
    "version": 3
   },
   "file_extension": ".py",
   "mimetype": "text/x-python",
   "name": "python",
   "nbconvert_exporter": "python",
   "pygments_lexer": "ipython3",
   "version": "3.8.8"
  }
 },
 "nbformat": 4,
 "nbformat_minor": 1
}
