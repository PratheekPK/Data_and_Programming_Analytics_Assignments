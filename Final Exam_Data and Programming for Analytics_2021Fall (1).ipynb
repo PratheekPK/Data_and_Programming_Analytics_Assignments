{
 "cells": [
  {
   "cell_type": "markdown",
   "metadata": {},
   "source": [
    "## Data and Programming for Analytics Final 2021\n",
    "\n",
    "* Time: 8am PST (Monday, December 6, 2021) to 8am PST (Wednesday, December 8, 2021)\n",
    "* Submission: please upload both .ipynb file and .html file on Canvas under Assignments -> Final\n",
    "* You are required to answer all questions.\n",
    "* This is a “open book, open computer” exam\n",
    "* You should solve those problems on your own. You are allowed to \"google\" or do your own research on the internet, but you are not allowed to seek help from others, including but not limited to family members, friends, classmates and so forth.\n",
    "* Please be as succinct as possible in answering the questions.\n",
    "* The total score is 130 points.\n",
    "\n",
    "\n",
    "\n",
    "\n",
    "\n"
   ]
  },
  {
   "cell_type": "markdown",
   "metadata": {},
   "source": [
    "### Please initial here that if you agree to comply to the UCI Academic Honesty Policy:__PPK______\n"
   ]
  },
  {
   "cell_type": "markdown",
   "metadata": {},
   "source": [
    "### Part I. Multiple Choices and Short-Answer Questions (40 pts)"
   ]
  },
  {
   "cell_type": "markdown",
   "metadata": {},
   "source": [
    "#### Q1. \n",
    "Which of the following has a different number of iterations?"
   ]
  },
  {
   "cell_type": "code",
   "execution_count": 6,
   "metadata": {},
   "outputs": [],
   "source": [
    "#a)\n",
    "i = 0\n",
    "while i <=100:\n",
    "    i = i+1"
   ]
  },
  {
   "cell_type": "code",
   "execution_count": 1,
   "metadata": {},
   "outputs": [
    {
     "name": "stdout",
     "output_type": "stream",
     "text": [
      "101\n"
     ]
    }
   ],
   "source": [
    "i = 0\n",
    "while i <=100:\n",
    "    i = i+1\n",
    "\n",
    "print(i)"
   ]
  },
  {
   "cell_type": "code",
   "execution_count": null,
   "metadata": {},
   "outputs": [],
   "source": [
    "#b) \n",
    "for i in range(100):\n",
    "    print(\"Hi\")\n",
    "       "
   ]
  },
  {
   "cell_type": "code",
   "execution_count": 2,
   "metadata": {},
   "outputs": [
    {
     "name": "stdout",
     "output_type": "stream",
     "text": [
      "100\n"
     ]
    }
   ],
   "source": [
    "k = 0\n",
    "for i in range(100):\n",
    "    #print(\"Hi\")\n",
    "    k = k + 1\n",
    "print(k)"
   ]
  },
  {
   "cell_type": "code",
   "execution_count": 3,
   "metadata": {},
   "outputs": [
    {
     "name": "stdout",
     "output_type": "stream",
     "text": [
      "100\n"
     ]
    }
   ],
   "source": [
    "#c)\n",
    "j=0\n",
    "for i in range(100, 0, -1):\n",
    "    #print(\"Hi\")\n",
    "    j = j + 1\n",
    "print(j)"
   ]
  },
  {
   "cell_type": "code",
   "execution_count": 4,
   "metadata": {},
   "outputs": [
    {
     "name": "stdout",
     "output_type": "stream",
     "text": [
      "100\n"
     ]
    }
   ],
   "source": [
    "#d)\n",
    "l=0\n",
    "i=100\n",
    "while (i>0):\n",
    "    #print(\"Hi\")\n",
    "    i = i-1\n",
    "    l = l+1\n",
    "print(l)"
   ]
  },
  {
   "cell_type": "markdown",
   "metadata": {},
   "source": [
    "# Your Answer Here:\n",
    "Option a) is the one which has a different number of iterations. It does 101 iterations where as the others do 100 iterations.\n",
    "i = 0\n",
    "while i <=100:\n",
    "    i = i+1\n"
   ]
  },
  {
   "cell_type": "markdown",
   "metadata": {},
   "source": [
    "#### Q2. \n",
    "\n",
    "Write a list comprehension to take in a list and transform each word into its uppercase and also calculate the length of the word.\n",
    "\n",
    "str1 =[\"Merage\", \"Python\", \"programming\"]\n",
    "\n",
    "Expected output: [('MERAGE', 6), ('PYTHON', 6), ('PROGRAMMING', 11)]"
   ]
  },
  {
   "cell_type": "code",
   "execution_count": 5,
   "metadata": {},
   "outputs": [
    {
     "name": "stdout",
     "output_type": "stream",
     "text": [
      "[('MERAGE', 6), ('PYTHON', 6), ('PROGRAMMING', 11)]\n"
     ]
    }
   ],
   "source": [
    "# Your Answer Here:\n",
    "str1 =[\"Merage\", \"Python\", \"programming\"]\n",
    "\n",
    "print([(i.upper(),len(i)) for i in str1])"
   ]
  },
  {
   "cell_type": "markdown",
   "metadata": {},
   "source": [
    "#### Q3. \n",
    "\n",
    "How many iterations the following while loop will run (we assume we use Python 3.x)?"
   ]
  },
  {
   "cell_type": "code",
   "execution_count": 6,
   "metadata": {},
   "outputs": [
    {
     "name": "stdout",
     "output_type": "stream",
     "text": [
      "10\n"
     ]
    }
   ],
   "source": [
    "num_of_iter = 0\n",
    "i = 1000\n",
    "while i >1:\n",
    "    i = i/2\n",
    "    num_of_iter = num_of_iter + 1\n",
    "print(num_of_iter)"
   ]
  },
  {
   "cell_type": "markdown",
   "metadata": {},
   "source": [
    "a) 500\n",
    "\n",
    "b) 10\n",
    "\n",
    "c) 499\n",
    "\n",
    "d) 9\n",
    "\n",
    "e) 1001"
   ]
  },
  {
   "cell_type": "markdown",
   "metadata": {},
   "source": [
    "# Your Answer Here:   \n",
    "The above while loop ran b) 10 times"
   ]
  },
  {
   "cell_type": "markdown",
   "metadata": {},
   "source": [
    "#### Q4. \n",
    "\n",
    "Write a program which will find all such numbers which are divisible by 6 but are not a multiple of 5, between 1000 and 2000 (both included).\n",
    "\n",
    "The numbers obtained should be printed in a comma-separated sequence on a single line, such as \n",
    "n1, n2, n3, ..."
   ]
  },
  {
   "cell_type": "code",
   "execution_count": 7,
   "metadata": {},
   "outputs": [
    {
     "name": "stdout",
     "output_type": "stream",
     "text": [
      "1002, 1008, 1014, 1026, 1032, 1038, 1044, 1056, 1062, 1068, 1074, 1086, 1092, 1098, 1104, 1116, 1122, 1128, 1134, 1146, 1152, 1158, 1164, 1176, 1182, 1188, 1194, 1206, 1212, 1218, 1224, 1236, 1242, 1248, 1254, 1266, 1272, 1278, 1284, 1296, 1302, 1308, 1314, 1326, 1332, 1338, 1344, 1356, 1362, 1368, 1374, 1386, 1392, 1398, 1404, 1416, 1422, 1428, 1434, 1446, 1452, 1458, 1464, 1476, 1482, 1488, 1494, 1506, 1512, 1518, 1524, 1536, 1542, 1548, 1554, 1566, 1572, 1578, 1584, 1596, 1602, 1608, 1614, 1626, 1632, 1638, 1644, 1656, 1662, 1668, 1674, 1686, 1692, 1698, 1704, 1716, 1722, 1728, 1734, 1746, 1752, 1758, 1764, 1776, 1782, 1788, 1794, 1806, 1812, 1818, 1824, 1836, 1842, 1848, 1854, 1866, 1872, 1878, 1884, 1896, 1902, 1908, 1914, 1926, 1932, 1938, 1944, 1956, 1962, 1968, 1974, 1986, 1992, 1998, "
     ]
    }
   ],
   "source": [
    "# Your Solution Here:  \n",
    "for i in range(1000,2001):\n",
    "    if((i%6 == 0) and (i%5 != 0)):\n",
    "        print(str(i), end=\", \")\n",
    "        "
   ]
  },
  {
   "cell_type": "markdown",
   "metadata": {},
   "source": [
    "#### Q5. \n",
    "\n",
    "Write a program that accepts a sequence of whitespace separated words as input and prints the words after removing all duplicate words and sorting them alphanumerically.\n",
    "\n",
    "Example input:\n",
    "    \n",
    "Do not go where the path may lead, go instead where there is no path and leave a trail.\n",
    "\n",
    "Example output:\n",
    "\n",
    "Do a and go instead is lead, leave may no not path the there trail. where"
   ]
  },
  {
   "cell_type": "code",
   "execution_count": 8,
   "metadata": {},
   "outputs": [
    {
     "name": "stdout",
     "output_type": "stream",
     "text": [
      "Do not go where the path may lead, go instead where there is no path and leave a trail.\n",
      "Do a and go instead is lead, leave may no not path the there trail. where\n"
     ]
    }
   ],
   "source": [
    "\n",
    "if __name__ == \"__main__\":\n",
    "    s = input()\n",
    "    answer = list(dict.fromkeys(s.split()).keys())\n",
    "    print(\" \".join(sorted(answer)))\n",
    "    "
   ]
  },
  {
   "cell_type": "markdown",
   "metadata": {},
   "source": [
    "#### Q6.\n",
    "Given a string, return the sum and average of the digits that appear in the string, ignoring all other characters.\n",
    "\n",
    "Given:\n",
    "\n",
    "str1 = \"Data Analytics = 95 Economics = 85 Marketing = 90\"\n",
    "\n",
    "Expected Outcome:\n",
    "\n",
    "Sum: 270\n",
    "\n",
    "Average: 90"
   ]
  },
  {
   "cell_type": "code",
   "execution_count": 9,
   "metadata": {},
   "outputs": [
    {
     "name": "stdout",
     "output_type": "stream",
     "text": [
      "Sum: 270\n",
      "Average: 90\n"
     ]
    }
   ],
   "source": [
    "l = []\n",
    "str1 = \"Data Analytics = 95 Economics = 85 Marketing = 90\"\n",
    "for t in str1.split():\n",
    "    try:\n",
    "        l.append(int(t))\n",
    "    except ValueError:\n",
    "        pass\n",
    "\n",
    "print(\"Sum: \" + str(sum(l)))\n",
    "\n",
    "print(\"Average: \" + str(int(sum(l) / len(l))))\n"
   ]
  },
  {
   "cell_type": "markdown",
   "metadata": {},
   "source": [
    "#### Q7. \n",
    "Turn the following dictionaries into data frames then combine them into a 2x4 (two rows, 4 columns) such that the column names are the animal names.\n",
    "\n",
    "dict_1 = {\"Cows\":[40, 20], \"Sheep\":[22, 21]}\n",
    "\n",
    "dict_2 = {\"Pig\":[12, 4], \"Crow\":[60, 10]}"
   ]
  },
  {
   "cell_type": "code",
   "execution_count": 1,
   "metadata": {},
   "outputs": [
    {
     "data": {
      "text/html": [
       "<div>\n",
       "<style scoped>\n",
       "    .dataframe tbody tr th:only-of-type {\n",
       "        vertical-align: middle;\n",
       "    }\n",
       "\n",
       "    .dataframe tbody tr th {\n",
       "        vertical-align: top;\n",
       "    }\n",
       "\n",
       "    .dataframe thead th {\n",
       "        text-align: right;\n",
       "    }\n",
       "</style>\n",
       "<table border=\"1\" class=\"dataframe\">\n",
       "  <thead>\n",
       "    <tr style=\"text-align: right;\">\n",
       "      <th></th>\n",
       "      <th>Cows</th>\n",
       "      <th>Sheep</th>\n",
       "      <th>Pig</th>\n",
       "      <th>Crow</th>\n",
       "    </tr>\n",
       "  </thead>\n",
       "  <tbody>\n",
       "    <tr>\n",
       "      <th>0</th>\n",
       "      <td>40</td>\n",
       "      <td>22</td>\n",
       "      <td>12</td>\n",
       "      <td>60</td>\n",
       "    </tr>\n",
       "    <tr>\n",
       "      <th>1</th>\n",
       "      <td>20</td>\n",
       "      <td>21</td>\n",
       "      <td>4</td>\n",
       "      <td>10</td>\n",
       "    </tr>\n",
       "  </tbody>\n",
       "</table>\n",
       "</div>"
      ],
      "text/plain": [
       "   Cows  Sheep  Pig  Crow\n",
       "0    40     22   12    60\n",
       "1    20     21    4    10"
      ]
     },
     "execution_count": 1,
     "metadata": {},
     "output_type": "execute_result"
    }
   ],
   "source": [
    "import pandas as pd\n",
    "\n",
    "dict_1 = {\"Cows\":[40, 20], \"Sheep\":[22, 21]}\n",
    "dict_2 = {\"Pig\":[12, 4], \"Crow\":[60, 10]}\n",
    "\n",
    "df_1 = pd.DataFrame(dict_1)\n",
    "df_2 = pd.DataFrame(dict_2)\n",
    "\n",
    "pd.concat([df_1,df_2],axis=1)"
   ]
  },
  {
   "cell_type": "markdown",
   "metadata": {},
   "source": [
    "#### Q8. \n",
    "Reverse words in the string \"one apple a day keeps the doctors away\" and print the new string"
   ]
  },
  {
   "cell_type": "code",
   "execution_count": 2,
   "metadata": {},
   "outputs": [
    {
     "name": "stdout",
     "output_type": "stream",
     "text": [
      "away doctors the keeps day a apple one\n"
     ]
    }
   ],
   "source": [
    "str1 = \"one apple a day keeps the doctors away\"\n",
    "\n",
    "words = str1.split(' ') \n",
    "  \n",
    "reverse_sentence = ' '.join(reversed(words))\n",
    "\n",
    "print(reverse_sentence)"
   ]
  },
  {
   "cell_type": "markdown",
   "metadata": {},
   "source": [
    "### Part II. Iterating Loops (20 pts)\n",
    "\n",
    "Write a program that takes in 3 comma separated integers (ex. 500, 4, 14) and puts them into a list for use. Each number will be used for the range() function as the incrementing factor for a starting point of 0 to a stopping point of 2000. The range() function is in the form of range(start, stop, step), where step is the incrementing factor. Print out a list containing tuples that have the each input and total iterations like this:\n",
    "\n",
    "[(, ), (, ), (, )]\n",
    "\n",
    "Please use list comprehension only instead of for loops for this problem.\n",
    "\n",
    "For example:\n",
    "\n",
    "Input: 2, 16, 228\n",
    "\n",
    "You will be using each of these numbers as the step in the range function. The range will begin at 0 and end at 2000. For step = 2, the total number of iterations is 1000. For step = 16, the total number of iterations is 125. For step = 228, the total number of iterations is 9.\n",
    "\n",
    "Now the question states you to save each input and its total number of iterations within a tuple that is within a list.\n",
    "\n",
    "Thus your final answer is [(2, 1000), (16, 125), (228, 9)]\n",
    "\n",
    "Example Input:\n",
    "14, 3, 4000\n",
    "\n",
    "Example Output:\n",
    "[(14, 143), (3, 667), (4000, 1)]"
   ]
  },
  {
   "cell_type": "code",
   "execution_count": 3,
   "metadata": {},
   "outputs": [
    {
     "name": "stdout",
     "output_type": "stream",
     "text": [
      "2, 16, 228\n",
      "[(2, 1000), (16, 125), (228, 9)]\n"
     ]
    }
   ],
   "source": [
    "# Your Solution Here: \n",
    "comma_sep_integers = input()\n",
    "list_of_int = comma_sep_integers.split(\", \")\n",
    "\n",
    "answer = [(int(i),len(range(0, 2000, int(i)))) for i in list_of_int]\n",
    "print(answer)"
   ]
  },
  {
   "cell_type": "markdown",
   "metadata": {},
   "source": [
    "### Part III. Login Information (30 pts)\n",
    "\n",
    "Your boss wants you to create a program that can take a user's email from their biography, create a password for the user, and save it into a dictionary for later use. The email will be in the form alphabetic@uci.edu (no numbers, all lowercase). The username is the characters before the domain name (ie. johnsmith in the email johnsmith@uci.edu). To create the password, you need to alter the username with ROT13. \n",
    "\n",
    "ROT13 (rotate by 13 places) is a simple substitution cipher that replaces a letter with the 13th letter after it in the alphabet. For example, \"j\" is the 10th letter in the alphabet. Altering \"j\" with ROT13 will get the 23rd (10 + 13 = 23) letter of the alphabet, \"w\". Likewise, if you altered \"w\" with ROT13, you will get the 10th (23 + 13 = 46 - 26 = 10) letter of the alphabet, \"j\". Thus in our example with johnsmith@uci.edu, the password will be \"wbuafzvgu\". Save both the username and password in a dictionary.\n",
    "\n",
    "Input:\n",
    "\n",
    "The input will be several sentences on a single line containing exactly one email within the biography with the form: alphabetic@uci.edu.\n",
    "\n",
    "Output:\n",
    "\n",
    "Print your dictionary which contains \"username\":<username> and \"password\":<password>"
   ]
  },
  {
   "cell_type": "code",
   "execution_count": 4,
   "metadata": {},
   "outputs": [],
   "source": [
    "#Example Input: \n",
    "str_input = \"Tingting Nian, Assistant Professor at The Paul Merage School of Business at University of California, Irvine, studies social media, online communities and economics of digital goods. Her prior research has won the 2014 INFORMS Conference on Information Systems and Technology Best Conference Paper Award and a WCAI Research Award from Wharton Customer Analytics Initiative. Her email is tnian@uci.edu. She received her PhD in Business Administration (specialized in Information Systems) from Leonard N. Stern School of Business at NYU in 2015 and holds a Bachelor’s degree in Business Administration from Tsinghua University.\""
   ]
  },
  {
   "cell_type": "code",
   "execution_count": null,
   "metadata": {},
   "outputs": [],
   "source": [
    "#Example Output:\n",
    "{'username':'tnian', 'password':'gavna'}"
   ]
  },
  {
   "cell_type": "code",
   "execution_count": 5,
   "metadata": {},
   "outputs": [
    {
     "name": "stdout",
     "output_type": "stream",
     "text": [
      "{'username': 'tnian', 'password': 'gavna'}\n"
     ]
    }
   ],
   "source": [
    "#Solution Here:\n",
    "def rot13(s):\n",
    "    chars = \"abcdefghijklmnopqrstuvwxyz\"\n",
    "    trans = chars[13:]+chars[:13]\n",
    "    rot_char = lambda c: trans[chars.find(c)] if chars.find(c)>-1 else c\n",
    "    return ''.join( rot_char(c) for c in s ) \n",
    "dict_of_pass = dict()\n",
    "import re\n",
    "emails = re.findall(r\"[a-z0-9\\.\\-+_]+@[a-z0-9\\.\\-+_]+\\.[a-z]+\", str_input)\n",
    "\n",
    "dict_of_pass[\"username\"] = emails[0].split(\"@\")[0]\n",
    "dict_of_pass[\"password\"] = rot13(emails[0].split(\"@\")[0])\n",
    "\n",
    "\n",
    "\n",
    "print(dict_of_pass)\n"
   ]
  },
  {
   "cell_type": "markdown",
   "metadata": {},
   "source": [
    "### Part IV. Data Analysis (40 pts)\n",
    "\n",
    "Please generate some analyses and visualization using the crunchbase dataset you downloaded from Canvas. Feel free to use any packages (in Python), and generate any types of figures. You may also comment on the generated results and figures, and explain any insights you have obtained.\n"
   ]
  },
  {
   "cell_type": "code",
   "execution_count": 6,
   "metadata": {},
   "outputs": [],
   "source": [
    "import pandas as pd\n",
    "import numpy as np\n",
    "\n",
    "import datetime\n",
    "import matplotlib\n",
    "\n",
    "%matplotlib inline"
   ]
  },
  {
   "cell_type": "code",
   "execution_count": 7,
   "metadata": {},
   "outputs": [
    {
     "name": "stderr",
     "output_type": "stream",
     "text": [
      "E:\\Users\\hp\\anaconda3\\lib\\site-packages\\IPython\\core\\interactiveshell.py:3165: DtypeWarning: Columns (9) have mixed types.Specify dtype option on import or set low_memory=False.\n",
      "  has_raised = await self.run_ast_nodes(code_ast.body, cell_name,\n"
     ]
    }
   ],
   "source": [
    "df_acquisitions = pd.read_csv(\"crunchbase_acquisitions.csv\")\n",
    "df_companies = pd.read_csv(\"crunchbase_companies.csv\")\n",
    "df_investments = pd.read_csv(\"crunchbase_investments.csv\")"
   ]
  },
  {
   "cell_type": "markdown",
   "metadata": {},
   "source": [
    "Check the presence of missing values for the further analysis"
   ]
  },
  {
   "cell_type": "code",
   "execution_count": 8,
   "metadata": {},
   "outputs": [
    {
     "data": {
      "text/plain": [
       "permalink                0\n",
       "name                     0\n",
       "homepage_url          1387\n",
       "category_code         1029\n",
       "funding_total_usd     3317\n",
       "status                   0\n",
       "country_code          1823\n",
       "state_code           10455\n",
       "region                   0\n",
       "city                  2622\n",
       "funding_rounds           0\n",
       "founded_at            5886\n",
       "founded_at_clean      5886\n",
       "id                       0\n",
       "dtype: int64"
      ]
     },
     "execution_count": 8,
     "metadata": {},
     "output_type": "execute_result"
    }
   ],
   "source": [
    "df_companies.isnull().sum()"
   ]
  },
  {
   "cell_type": "code",
   "execution_count": 9,
   "metadata": {},
   "outputs": [
    {
     "data": {
      "text/plain": [
       "company_permalink            0\n",
       "acquirer_permalink           0\n",
       "acquirer_name                0\n",
       "acquirer_category_code     915\n",
       "acquirer_country_code      522\n",
       "acquirer_state_code       1939\n",
       "acquirer_region              0\n",
       "acquirer_city              731\n",
       "price_amount              5372\n",
       "price_currency_code          4\n",
       "acquired_at                  0\n",
       "acquired_at_cleaned          0\n",
       "id                           0\n",
       "dtype: int64"
      ]
     },
     "execution_count": 9,
     "metadata": {},
     "output_type": "execute_result"
    }
   ],
   "source": [
    "df_acquisitions.isnull().sum()"
   ]
  },
  {
   "cell_type": "code",
   "execution_count": 10,
   "metadata": {},
   "outputs": [
    {
     "data": {
      "text/plain": [
       "company_permalink             0\n",
       "company_name                  0\n",
       "company_category_code      1609\n",
       "company_country_code       3048\n",
       "company_state_code        24677\n",
       "company_region                0\n",
       "company_city               4919\n",
       "investor_permalink            0\n",
       "investor_name                 0\n",
       "investor_category_code    79428\n",
       "investor_country_code     19989\n",
       "investor_state_code       38390\n",
       "investor_region               0\n",
       "investor_city             21240\n",
       "funding_round_type            1\n",
       "funded_at                     1\n",
       "funded_month                  1\n",
       "funded_quarter                1\n",
       "funded_year                   1\n",
       "raised_amount_usd          8118\n",
       "id                            0\n",
       "dtype: int64"
      ]
     },
     "execution_count": 10,
     "metadata": {},
     "output_type": "execute_result"
    }
   ],
   "source": [
    "df_investments.isnull().sum()"
   ]
  },
  {
   "cell_type": "markdown",
   "metadata": {},
   "source": [
    "#### Rank the total funding amount by category\n",
    "- Goal: identify top 3 startup categories for further analysis\n",
    "- What insights can you generate from this analysis?\n",
    "- Hints: when you join these tables together, you may use investor_permalink, company_permalink."
   ]
  },
  {
   "cell_type": "code",
   "execution_count": 11,
   "metadata": {},
   "outputs": [
    {
     "data": {
      "text/plain": [
       "category_code\n",
       "biotech       5.659751e+10\n",
       "software      3.341639e+10\n",
       "cleantech     3.313164e+10\n",
       "mobile        2.667997e+10\n",
       "enterprise    1.766521e+10\n",
       "Name: funding_total_usd, dtype: float64"
      ]
     },
     "execution_count": 11,
     "metadata": {},
     "output_type": "execute_result"
    }
   ],
   "source": [
    "df_companies.groupby([\"category_code\"])[\"funding_total_usd\"].sum().sort_values(ascending=False).head(5)"
   ]
  },
  {
   "cell_type": "code",
   "execution_count": 12,
   "metadata": {},
   "outputs": [
    {
     "data": {
      "text/plain": [
       "company_category_code\n",
       "biotech       1.499328e+11\n",
       "software      9.824902e+10\n",
       "mobile        8.189248e+10\n",
       "cleantech     7.105269e+10\n",
       "enterprise    5.809240e+10\n",
       "Name: raised_amount_usd, dtype: float64"
      ]
     },
     "execution_count": 12,
     "metadata": {},
     "output_type": "execute_result"
    }
   ],
   "source": [
    "df_investments.groupby([\"company_category_code\"])[\"raised_amount_usd\"].sum().sort_values(ascending=False).head(5)"
   ]
  },
  {
   "cell_type": "markdown",
   "metadata": {},
   "source": [
    "From the above tables we can see that biotech, software and mobiles are the top 3 startup categories if we take the df_investments dataframe into account and use the raised amount. On the other hand if we use the df_companies dataframe and the total funding we can see that biotech, software and cleantech are the top 3 startup categories."
   ]
  },
  {
   "cell_type": "markdown",
   "metadata": {},
   "source": [
    "#### Identify top-10 investors in biotech, software, and cleantech\n",
    "- Goal: identify top-10 investors in the most funded startup categories\n",
    "- What insights can you generate from this analysis?\n"
   ]
  },
  {
   "cell_type": "code",
   "execution_count": 31,
   "metadata": {},
   "outputs": [
    {
     "data": {
      "text/plain": [
       "investor_name\n",
       "Domain Associates                            2.102790e+09\n",
       "OrbiMed Advisors                             2.040800e+09\n",
       "New Enterprise Associates                    1.945754e+09\n",
       "Alta Partners                                1.902820e+09\n",
       "Novartis Venture Fund                        1.821610e+09\n",
       "Kleiner Perkins Caufield & Byers             1.719642e+09\n",
       "MPM Capital                                  1.684000e+09\n",
       "Novo A/S                                     1.531524e+09\n",
       "Johnson & Johnson Development Corporation    1.426701e+09\n",
       "New Leaf Venture Partners                    1.369238e+09\n",
       "Name: raised_amount_usd, dtype: float64"
      ]
     },
     "execution_count": 31,
     "metadata": {},
     "output_type": "execute_result"
    }
   ],
   "source": [
    "df_investments_biotech = df_investments[df_investments[\"company_category_code\"]==\"biotech\"]\n",
    "df_investments_software = df_investments[df_investments[\"company_category_code\"]==\"software\"]\n",
    "df_investments_cleantech = df_investments[df_investments[\"company_category_code\"]==\"cleantech\"]\n",
    "pd.set_option(\"display.max_row\",None)\n",
    "df_investments_biotech.groupby([\"investor_name\"])[\"raised_amount_usd\"].sum().sort_values(ascending=False).head(10)"
   ]
  },
  {
   "cell_type": "markdown",
   "metadata": {},
   "source": [
    "In the Biotech sector, the top 10 investors are given above. We can see that Domain Associates has the highest investment and the amount they have spent is nearly twice that of the 10th place investor New Leaf Venture Partners. The top 10 investors are all evenly spread out with no outliers."
   ]
  },
  {
   "cell_type": "code",
   "execution_count": 15,
   "metadata": {
    "scrolled": true
   },
   "outputs": [
    {
     "data": {
      "text/plain": [
       "investor_name\n",
       "Intel Capital                1.484950e+09\n",
       "Accel Partners               1.480640e+09\n",
       "Benchmark                    1.427275e+09\n",
       "Sequoia Capital              1.272350e+09\n",
       "New Enterprise Associates    1.123100e+09\n",
       "Goldman Sachs                1.107100e+09\n",
       "Insight Venture Partners     1.089100e+09\n",
       "Greylock Partners            9.507500e+08\n",
       "Index Ventures               8.108639e+08\n",
       "Redpoint Ventures            7.829500e+08\n",
       "Name: raised_amount_usd, dtype: float64"
      ]
     },
     "execution_count": 15,
     "metadata": {},
     "output_type": "execute_result"
    }
   ],
   "source": [
    "df_investments_software.groupby([\"investor_name\"])[\"raised_amount_usd\"].sum().sort_values(ascending=False).head(10)"
   ]
  },
  {
   "cell_type": "markdown",
   "metadata": {},
   "source": [
    "In the Software sector, the top 10 investors are given above. We can see that Intel Capital has the highest investment and the amount they have spent is nearly twice that of the 10th place investor Redpoint Ventures. Intel Capital and Accel Partners have spent nearly the same amount though. On average, the top 10 investors in software have spent less than the top 10 investors in biotech."
   ]
  },
  {
   "cell_type": "code",
   "execution_count": 16,
   "metadata": {
    "scrolled": true
   },
   "outputs": [
    {
     "data": {
      "text/plain": [
       "investor_name\n",
       "Kleiner Perkins Caufield & Byers    2.647800e+09\n",
       "Khosla Ventures                     1.870570e+09\n",
       "VantagePoint Capital Partners       1.560486e+09\n",
       "New Enterprise Associates           1.240180e+09\n",
       "Draper Fisher Jurvetson (DFJ)       8.061350e+08\n",
       "Morgan Stanley                      7.737000e+08\n",
       "Goldman Sachs                       6.699000e+08\n",
       "Denham Capital                      6.500000e+08\n",
       "Oak Investment Partners             6.451000e+08\n",
       "NGEN Partners                       6.382000e+08\n",
       "Name: raised_amount_usd, dtype: float64"
      ]
     },
     "execution_count": 16,
     "metadata": {},
     "output_type": "execute_result"
    }
   ],
   "source": [
    "df_investments_cleantech.groupby([\"investor_name\"])[\"raised_amount_usd\"].sum().sort_values(ascending=False).head(10)"
   ]
  },
  {
   "cell_type": "markdown",
   "metadata": {},
   "source": [
    "In the cleantech sector we can see that Kleiner Perkins Caufield & Byers have spent the most amount and are far and away the highest spenders in the sector, spending nearly 50% more than the second places Khosla Ventures and around 4 times more than the 10 places NGEN Partners. Also we can see that the top 10 cleantech investors on average spend more compared to the top 10 biotech and the top 10 software investors even though Kleiner Perkins Caufield & Byers cause the average calculations to be skewed. We can assume that Kleiner Perkins Caufield & Byers are trying to concentrate on the cleantech sector."
   ]
  },
  {
   "cell_type": "markdown",
   "metadata": {},
   "source": [
    "#### Study the investment strategies of top-10 cleantech investors\n",
    "- Goal: generate insights on the investment strategies of top-5 cleantech investors (e.g. different investors may have different preferences for specific funding round such as series-a, series-b, series-c, venture funding, and etc.)"
   ]
  },
  {
   "cell_type": "code",
   "execution_count": 17,
   "metadata": {},
   "outputs": [],
   "source": [
    "df_investments_cleantech_kleiner = df_investments_cleantech[df_investments_cleantech[\"investor_name\"]==\"Kleiner Perkins Caufield & Byers\"]\n",
    "df_investments_cleantech_khosla = df_investments_cleantech[df_investments_cleantech[\"investor_name\"]==\"Khosla Ventures\"]\n",
    "df_investments_cleantech_vantage = df_investments_cleantech[df_investments_cleantech[\"investor_name\"]==\"VantagePoint Capital Partners\"]\n",
    "df_investments_cleantech_newenter = df_investments_cleantech[df_investments_cleantech[\"investor_name\"]==\"New Enterprise Associates\"]\n",
    "df_investments_cleantech_draper = df_investments_cleantech[df_investments_cleantech[\"investor_name\"]==\"Draper Fisher Jurvetson (DFJ)\"]"
   ]
  },
  {
   "cell_type": "code",
   "execution_count": 18,
   "metadata": {},
   "outputs": [
    {
     "data": {
      "text/html": [
       "<div>\n",
       "<style scoped>\n",
       "    .dataframe tbody tr th:only-of-type {\n",
       "        vertical-align: middle;\n",
       "    }\n",
       "\n",
       "    .dataframe tbody tr th {\n",
       "        vertical-align: top;\n",
       "    }\n",
       "\n",
       "    .dataframe thead th {\n",
       "        text-align: right;\n",
       "    }\n",
       "</style>\n",
       "<table border=\"1\" class=\"dataframe\">\n",
       "  <thead>\n",
       "    <tr style=\"text-align: right;\">\n",
       "      <th></th>\n",
       "      <th>company_permalink</th>\n",
       "      <th>company_name</th>\n",
       "      <th>company_category_code</th>\n",
       "      <th>company_country_code</th>\n",
       "      <th>company_state_code</th>\n",
       "      <th>company_region</th>\n",
       "      <th>company_city</th>\n",
       "      <th>investor_permalink</th>\n",
       "      <th>investor_name</th>\n",
       "      <th>investor_category_code</th>\n",
       "      <th>investor_country_code</th>\n",
       "      <th>investor_state_code</th>\n",
       "      <th>investor_region</th>\n",
       "      <th>investor_city</th>\n",
       "      <th>funded_at</th>\n",
       "      <th>funded_month</th>\n",
       "      <th>funded_quarter</th>\n",
       "      <th>funded_year</th>\n",
       "      <th>raised_amount_usd</th>\n",
       "      <th>id</th>\n",
       "    </tr>\n",
       "    <tr>\n",
       "      <th>funding_round_type</th>\n",
       "      <th></th>\n",
       "      <th></th>\n",
       "      <th></th>\n",
       "      <th></th>\n",
       "      <th></th>\n",
       "      <th></th>\n",
       "      <th></th>\n",
       "      <th></th>\n",
       "      <th></th>\n",
       "      <th></th>\n",
       "      <th></th>\n",
       "      <th></th>\n",
       "      <th></th>\n",
       "      <th></th>\n",
       "      <th></th>\n",
       "      <th></th>\n",
       "      <th></th>\n",
       "      <th></th>\n",
       "      <th></th>\n",
       "      <th></th>\n",
       "    </tr>\n",
       "  </thead>\n",
       "  <tbody>\n",
       "    <tr>\n",
       "      <th>other</th>\n",
       "      <td>1</td>\n",
       "      <td>1</td>\n",
       "      <td>1</td>\n",
       "      <td>1</td>\n",
       "      <td>1</td>\n",
       "      <td>1</td>\n",
       "      <td>1</td>\n",
       "      <td>1</td>\n",
       "      <td>1</td>\n",
       "      <td>0</td>\n",
       "      <td>1</td>\n",
       "      <td>1</td>\n",
       "      <td>1</td>\n",
       "      <td>1</td>\n",
       "      <td>1</td>\n",
       "      <td>1</td>\n",
       "      <td>1</td>\n",
       "      <td>1</td>\n",
       "      <td>1</td>\n",
       "      <td>1</td>\n",
       "    </tr>\n",
       "    <tr>\n",
       "      <th>private-equity</th>\n",
       "      <td>1</td>\n",
       "      <td>1</td>\n",
       "      <td>1</td>\n",
       "      <td>1</td>\n",
       "      <td>1</td>\n",
       "      <td>1</td>\n",
       "      <td>1</td>\n",
       "      <td>1</td>\n",
       "      <td>1</td>\n",
       "      <td>0</td>\n",
       "      <td>1</td>\n",
       "      <td>1</td>\n",
       "      <td>1</td>\n",
       "      <td>1</td>\n",
       "      <td>1</td>\n",
       "      <td>1</td>\n",
       "      <td>1</td>\n",
       "      <td>1</td>\n",
       "      <td>1</td>\n",
       "      <td>1</td>\n",
       "    </tr>\n",
       "    <tr>\n",
       "      <th>series-a</th>\n",
       "      <td>5</td>\n",
       "      <td>5</td>\n",
       "      <td>5</td>\n",
       "      <td>5</td>\n",
       "      <td>5</td>\n",
       "      <td>5</td>\n",
       "      <td>5</td>\n",
       "      <td>5</td>\n",
       "      <td>5</td>\n",
       "      <td>0</td>\n",
       "      <td>5</td>\n",
       "      <td>5</td>\n",
       "      <td>5</td>\n",
       "      <td>5</td>\n",
       "      <td>5</td>\n",
       "      <td>5</td>\n",
       "      <td>5</td>\n",
       "      <td>5</td>\n",
       "      <td>5</td>\n",
       "      <td>5</td>\n",
       "    </tr>\n",
       "    <tr>\n",
       "      <th>series-b</th>\n",
       "      <td>12</td>\n",
       "      <td>12</td>\n",
       "      <td>12</td>\n",
       "      <td>12</td>\n",
       "      <td>12</td>\n",
       "      <td>12</td>\n",
       "      <td>12</td>\n",
       "      <td>12</td>\n",
       "      <td>12</td>\n",
       "      <td>0</td>\n",
       "      <td>12</td>\n",
       "      <td>12</td>\n",
       "      <td>12</td>\n",
       "      <td>12</td>\n",
       "      <td>12</td>\n",
       "      <td>12</td>\n",
       "      <td>12</td>\n",
       "      <td>12</td>\n",
       "      <td>12</td>\n",
       "      <td>12</td>\n",
       "    </tr>\n",
       "    <tr>\n",
       "      <th>series-c+</th>\n",
       "      <td>18</td>\n",
       "      <td>18</td>\n",
       "      <td>18</td>\n",
       "      <td>18</td>\n",
       "      <td>18</td>\n",
       "      <td>18</td>\n",
       "      <td>18</td>\n",
       "      <td>18</td>\n",
       "      <td>18</td>\n",
       "      <td>0</td>\n",
       "      <td>18</td>\n",
       "      <td>18</td>\n",
       "      <td>18</td>\n",
       "      <td>18</td>\n",
       "      <td>18</td>\n",
       "      <td>18</td>\n",
       "      <td>18</td>\n",
       "      <td>18</td>\n",
       "      <td>18</td>\n",
       "      <td>18</td>\n",
       "    </tr>\n",
       "    <tr>\n",
       "      <th>venture</th>\n",
       "      <td>18</td>\n",
       "      <td>18</td>\n",
       "      <td>18</td>\n",
       "      <td>18</td>\n",
       "      <td>17</td>\n",
       "      <td>18</td>\n",
       "      <td>18</td>\n",
       "      <td>18</td>\n",
       "      <td>18</td>\n",
       "      <td>0</td>\n",
       "      <td>18</td>\n",
       "      <td>18</td>\n",
       "      <td>18</td>\n",
       "      <td>18</td>\n",
       "      <td>18</td>\n",
       "      <td>18</td>\n",
       "      <td>18</td>\n",
       "      <td>18</td>\n",
       "      <td>15</td>\n",
       "      <td>18</td>\n",
       "    </tr>\n",
       "  </tbody>\n",
       "</table>\n",
       "</div>"
      ],
      "text/plain": [
       "                    company_permalink  company_name  company_category_code  \\\n",
       "funding_round_type                                                           \n",
       "other                               1             1                      1   \n",
       "private-equity                      1             1                      1   \n",
       "series-a                            5             5                      5   \n",
       "series-b                           12            12                     12   \n",
       "series-c+                          18            18                     18   \n",
       "venture                            18            18                     18   \n",
       "\n",
       "                    company_country_code  company_state_code  company_region  \\\n",
       "funding_round_type                                                             \n",
       "other                                  1                   1               1   \n",
       "private-equity                         1                   1               1   \n",
       "series-a                               5                   5               5   \n",
       "series-b                              12                  12              12   \n",
       "series-c+                             18                  18              18   \n",
       "venture                               18                  17              18   \n",
       "\n",
       "                    company_city  investor_permalink  investor_name  \\\n",
       "funding_round_type                                                    \n",
       "other                          1                   1              1   \n",
       "private-equity                 1                   1              1   \n",
       "series-a                       5                   5              5   \n",
       "series-b                      12                  12             12   \n",
       "series-c+                     18                  18             18   \n",
       "venture                       18                  18             18   \n",
       "\n",
       "                    investor_category_code  investor_country_code  \\\n",
       "funding_round_type                                                  \n",
       "other                                    0                      1   \n",
       "private-equity                           0                      1   \n",
       "series-a                                 0                      5   \n",
       "series-b                                 0                     12   \n",
       "series-c+                                0                     18   \n",
       "venture                                  0                     18   \n",
       "\n",
       "                    investor_state_code  investor_region  investor_city  \\\n",
       "funding_round_type                                                        \n",
       "other                                 1                1              1   \n",
       "private-equity                        1                1              1   \n",
       "series-a                              5                5              5   \n",
       "series-b                             12               12             12   \n",
       "series-c+                            18               18             18   \n",
       "venture                              18               18             18   \n",
       "\n",
       "                    funded_at  funded_month  funded_quarter  funded_year  \\\n",
       "funding_round_type                                                         \n",
       "other                       1             1               1            1   \n",
       "private-equity              1             1               1            1   \n",
       "series-a                    5             5               5            5   \n",
       "series-b                   12            12              12           12   \n",
       "series-c+                  18            18              18           18   \n",
       "venture                    18            18              18           18   \n",
       "\n",
       "                    raised_amount_usd  id  \n",
       "funding_round_type                         \n",
       "other                               1   1  \n",
       "private-equity                      1   1  \n",
       "series-a                            5   5  \n",
       "series-b                           12  12  \n",
       "series-c+                          18  18  \n",
       "venture                            15  18  "
      ]
     },
     "execution_count": 18,
     "metadata": {},
     "output_type": "execute_result"
    }
   ],
   "source": [
    "pd.set_option(\"display.max_columns\",None)\n",
    "df_investments_cleantech_kleiner.groupby(\"funding_round_type\").count()"
   ]
  },
  {
   "cell_type": "markdown",
   "metadata": {},
   "source": [
    "Kleiner Perkins Caufield & Byers seems to like venture and series-c+ funding rounds"
   ]
  },
  {
   "cell_type": "code",
   "execution_count": 19,
   "metadata": {},
   "outputs": [
    {
     "data": {
      "text/html": [
       "<div>\n",
       "<style scoped>\n",
       "    .dataframe tbody tr th:only-of-type {\n",
       "        vertical-align: middle;\n",
       "    }\n",
       "\n",
       "    .dataframe tbody tr th {\n",
       "        vertical-align: top;\n",
       "    }\n",
       "\n",
       "    .dataframe thead th {\n",
       "        text-align: right;\n",
       "    }\n",
       "</style>\n",
       "<table border=\"1\" class=\"dataframe\">\n",
       "  <thead>\n",
       "    <tr style=\"text-align: right;\">\n",
       "      <th></th>\n",
       "      <th>company_permalink</th>\n",
       "      <th>company_name</th>\n",
       "      <th>company_category_code</th>\n",
       "      <th>company_country_code</th>\n",
       "      <th>company_state_code</th>\n",
       "      <th>company_region</th>\n",
       "      <th>company_city</th>\n",
       "      <th>investor_permalink</th>\n",
       "      <th>investor_name</th>\n",
       "      <th>investor_category_code</th>\n",
       "      <th>investor_country_code</th>\n",
       "      <th>investor_state_code</th>\n",
       "      <th>investor_region</th>\n",
       "      <th>investor_city</th>\n",
       "      <th>funded_at</th>\n",
       "      <th>funded_month</th>\n",
       "      <th>funded_quarter</th>\n",
       "      <th>funded_year</th>\n",
       "      <th>raised_amount_usd</th>\n",
       "      <th>id</th>\n",
       "    </tr>\n",
       "    <tr>\n",
       "      <th>funding_round_type</th>\n",
       "      <th></th>\n",
       "      <th></th>\n",
       "      <th></th>\n",
       "      <th></th>\n",
       "      <th></th>\n",
       "      <th></th>\n",
       "      <th></th>\n",
       "      <th></th>\n",
       "      <th></th>\n",
       "      <th></th>\n",
       "      <th></th>\n",
       "      <th></th>\n",
       "      <th></th>\n",
       "      <th></th>\n",
       "      <th></th>\n",
       "      <th></th>\n",
       "      <th></th>\n",
       "      <th></th>\n",
       "      <th></th>\n",
       "      <th></th>\n",
       "    </tr>\n",
       "  </thead>\n",
       "  <tbody>\n",
       "    <tr>\n",
       "      <th>other</th>\n",
       "      <td>2</td>\n",
       "      <td>2</td>\n",
       "      <td>2</td>\n",
       "      <td>2</td>\n",
       "      <td>2</td>\n",
       "      <td>2</td>\n",
       "      <td>2</td>\n",
       "      <td>2</td>\n",
       "      <td>2</td>\n",
       "      <td>0</td>\n",
       "      <td>2</td>\n",
       "      <td>2</td>\n",
       "      <td>2</td>\n",
       "      <td>2</td>\n",
       "      <td>2</td>\n",
       "      <td>2</td>\n",
       "      <td>2</td>\n",
       "      <td>2</td>\n",
       "      <td>2</td>\n",
       "      <td>2</td>\n",
       "    </tr>\n",
       "    <tr>\n",
       "      <th>private-equity</th>\n",
       "      <td>1</td>\n",
       "      <td>1</td>\n",
       "      <td>1</td>\n",
       "      <td>1</td>\n",
       "      <td>1</td>\n",
       "      <td>1</td>\n",
       "      <td>1</td>\n",
       "      <td>1</td>\n",
       "      <td>1</td>\n",
       "      <td>0</td>\n",
       "      <td>1</td>\n",
       "      <td>1</td>\n",
       "      <td>1</td>\n",
       "      <td>1</td>\n",
       "      <td>1</td>\n",
       "      <td>1</td>\n",
       "      <td>1</td>\n",
       "      <td>1</td>\n",
       "      <td>1</td>\n",
       "      <td>1</td>\n",
       "    </tr>\n",
       "    <tr>\n",
       "      <th>series-a</th>\n",
       "      <td>8</td>\n",
       "      <td>8</td>\n",
       "      <td>8</td>\n",
       "      <td>8</td>\n",
       "      <td>8</td>\n",
       "      <td>8</td>\n",
       "      <td>8</td>\n",
       "      <td>8</td>\n",
       "      <td>8</td>\n",
       "      <td>0</td>\n",
       "      <td>8</td>\n",
       "      <td>8</td>\n",
       "      <td>8</td>\n",
       "      <td>8</td>\n",
       "      <td>8</td>\n",
       "      <td>8</td>\n",
       "      <td>8</td>\n",
       "      <td>8</td>\n",
       "      <td>8</td>\n",
       "      <td>8</td>\n",
       "    </tr>\n",
       "    <tr>\n",
       "      <th>series-b</th>\n",
       "      <td>17</td>\n",
       "      <td>17</td>\n",
       "      <td>17</td>\n",
       "      <td>17</td>\n",
       "      <td>17</td>\n",
       "      <td>17</td>\n",
       "      <td>17</td>\n",
       "      <td>17</td>\n",
       "      <td>17</td>\n",
       "      <td>0</td>\n",
       "      <td>17</td>\n",
       "      <td>17</td>\n",
       "      <td>17</td>\n",
       "      <td>17</td>\n",
       "      <td>17</td>\n",
       "      <td>17</td>\n",
       "      <td>17</td>\n",
       "      <td>17</td>\n",
       "      <td>17</td>\n",
       "      <td>17</td>\n",
       "    </tr>\n",
       "    <tr>\n",
       "      <th>series-c+</th>\n",
       "      <td>20</td>\n",
       "      <td>20</td>\n",
       "      <td>20</td>\n",
       "      <td>20</td>\n",
       "      <td>20</td>\n",
       "      <td>20</td>\n",
       "      <td>20</td>\n",
       "      <td>20</td>\n",
       "      <td>20</td>\n",
       "      <td>0</td>\n",
       "      <td>20</td>\n",
       "      <td>20</td>\n",
       "      <td>20</td>\n",
       "      <td>20</td>\n",
       "      <td>20</td>\n",
       "      <td>20</td>\n",
       "      <td>20</td>\n",
       "      <td>20</td>\n",
       "      <td>19</td>\n",
       "      <td>20</td>\n",
       "    </tr>\n",
       "    <tr>\n",
       "      <th>venture</th>\n",
       "      <td>15</td>\n",
       "      <td>15</td>\n",
       "      <td>15</td>\n",
       "      <td>13</td>\n",
       "      <td>13</td>\n",
       "      <td>15</td>\n",
       "      <td>13</td>\n",
       "      <td>15</td>\n",
       "      <td>15</td>\n",
       "      <td>0</td>\n",
       "      <td>15</td>\n",
       "      <td>15</td>\n",
       "      <td>15</td>\n",
       "      <td>15</td>\n",
       "      <td>15</td>\n",
       "      <td>15</td>\n",
       "      <td>15</td>\n",
       "      <td>15</td>\n",
       "      <td>14</td>\n",
       "      <td>15</td>\n",
       "    </tr>\n",
       "  </tbody>\n",
       "</table>\n",
       "</div>"
      ],
      "text/plain": [
       "                    company_permalink  company_name  company_category_code  \\\n",
       "funding_round_type                                                           \n",
       "other                               2             2                      2   \n",
       "private-equity                      1             1                      1   \n",
       "series-a                            8             8                      8   \n",
       "series-b                           17            17                     17   \n",
       "series-c+                          20            20                     20   \n",
       "venture                            15            15                     15   \n",
       "\n",
       "                    company_country_code  company_state_code  company_region  \\\n",
       "funding_round_type                                                             \n",
       "other                                  2                   2               2   \n",
       "private-equity                         1                   1               1   \n",
       "series-a                               8                   8               8   \n",
       "series-b                              17                  17              17   \n",
       "series-c+                             20                  20              20   \n",
       "venture                               13                  13              15   \n",
       "\n",
       "                    company_city  investor_permalink  investor_name  \\\n",
       "funding_round_type                                                    \n",
       "other                          2                   2              2   \n",
       "private-equity                 1                   1              1   \n",
       "series-a                       8                   8              8   \n",
       "series-b                      17                  17             17   \n",
       "series-c+                     20                  20             20   \n",
       "venture                       13                  15             15   \n",
       "\n",
       "                    investor_category_code  investor_country_code  \\\n",
       "funding_round_type                                                  \n",
       "other                                    0                      2   \n",
       "private-equity                           0                      1   \n",
       "series-a                                 0                      8   \n",
       "series-b                                 0                     17   \n",
       "series-c+                                0                     20   \n",
       "venture                                  0                     15   \n",
       "\n",
       "                    investor_state_code  investor_region  investor_city  \\\n",
       "funding_round_type                                                        \n",
       "other                                 2                2              2   \n",
       "private-equity                        1                1              1   \n",
       "series-a                              8                8              8   \n",
       "series-b                             17               17             17   \n",
       "series-c+                            20               20             20   \n",
       "venture                              15               15             15   \n",
       "\n",
       "                    funded_at  funded_month  funded_quarter  funded_year  \\\n",
       "funding_round_type                                                         \n",
       "other                       2             2               2            2   \n",
       "private-equity              1             1               1            1   \n",
       "series-a                    8             8               8            8   \n",
       "series-b                   17            17              17           17   \n",
       "series-c+                  20            20              20           20   \n",
       "venture                    15            15              15           15   \n",
       "\n",
       "                    raised_amount_usd  id  \n",
       "funding_round_type                         \n",
       "other                               2   2  \n",
       "private-equity                      1   1  \n",
       "series-a                            8   8  \n",
       "series-b                           17  17  \n",
       "series-c+                          19  20  \n",
       "venture                            14  15  "
      ]
     },
     "execution_count": 19,
     "metadata": {},
     "output_type": "execute_result"
    }
   ],
   "source": [
    "df_investments_cleantech_khosla.groupby(\"funding_round_type\").count()"
   ]
  },
  {
   "cell_type": "markdown",
   "metadata": {},
   "source": [
    "Khosla Ventures on the other hand likes the series-c+ funding round and then the series-b round with venture being in third place."
   ]
  },
  {
   "cell_type": "code",
   "execution_count": 20,
   "metadata": {
    "scrolled": true
   },
   "outputs": [
    {
     "data": {
      "text/html": [
       "<div>\n",
       "<style scoped>\n",
       "    .dataframe tbody tr th:only-of-type {\n",
       "        vertical-align: middle;\n",
       "    }\n",
       "\n",
       "    .dataframe tbody tr th {\n",
       "        vertical-align: top;\n",
       "    }\n",
       "\n",
       "    .dataframe thead th {\n",
       "        text-align: right;\n",
       "    }\n",
       "</style>\n",
       "<table border=\"1\" class=\"dataframe\">\n",
       "  <thead>\n",
       "    <tr style=\"text-align: right;\">\n",
       "      <th></th>\n",
       "      <th>company_permalink</th>\n",
       "      <th>company_name</th>\n",
       "      <th>company_category_code</th>\n",
       "      <th>company_country_code</th>\n",
       "      <th>company_state_code</th>\n",
       "      <th>company_region</th>\n",
       "      <th>company_city</th>\n",
       "      <th>investor_permalink</th>\n",
       "      <th>investor_name</th>\n",
       "      <th>investor_category_code</th>\n",
       "      <th>investor_country_code</th>\n",
       "      <th>investor_state_code</th>\n",
       "      <th>investor_region</th>\n",
       "      <th>investor_city</th>\n",
       "      <th>funded_at</th>\n",
       "      <th>funded_month</th>\n",
       "      <th>funded_quarter</th>\n",
       "      <th>funded_year</th>\n",
       "      <th>raised_amount_usd</th>\n",
       "      <th>id</th>\n",
       "    </tr>\n",
       "    <tr>\n",
       "      <th>funding_round_type</th>\n",
       "      <th></th>\n",
       "      <th></th>\n",
       "      <th></th>\n",
       "      <th></th>\n",
       "      <th></th>\n",
       "      <th></th>\n",
       "      <th></th>\n",
       "      <th></th>\n",
       "      <th></th>\n",
       "      <th></th>\n",
       "      <th></th>\n",
       "      <th></th>\n",
       "      <th></th>\n",
       "      <th></th>\n",
       "      <th></th>\n",
       "      <th></th>\n",
       "      <th></th>\n",
       "      <th></th>\n",
       "      <th></th>\n",
       "      <th></th>\n",
       "    </tr>\n",
       "  </thead>\n",
       "  <tbody>\n",
       "    <tr>\n",
       "      <th>other</th>\n",
       "      <td>1</td>\n",
       "      <td>1</td>\n",
       "      <td>1</td>\n",
       "      <td>1</td>\n",
       "      <td>1</td>\n",
       "      <td>1</td>\n",
       "      <td>1</td>\n",
       "      <td>1</td>\n",
       "      <td>1</td>\n",
       "      <td>0</td>\n",
       "      <td>1</td>\n",
       "      <td>1</td>\n",
       "      <td>1</td>\n",
       "      <td>1</td>\n",
       "      <td>1</td>\n",
       "      <td>1</td>\n",
       "      <td>1</td>\n",
       "      <td>1</td>\n",
       "      <td>1</td>\n",
       "      <td>1</td>\n",
       "    </tr>\n",
       "    <tr>\n",
       "      <th>private-equity</th>\n",
       "      <td>2</td>\n",
       "      <td>2</td>\n",
       "      <td>2</td>\n",
       "      <td>2</td>\n",
       "      <td>2</td>\n",
       "      <td>2</td>\n",
       "      <td>2</td>\n",
       "      <td>2</td>\n",
       "      <td>2</td>\n",
       "      <td>0</td>\n",
       "      <td>2</td>\n",
       "      <td>2</td>\n",
       "      <td>2</td>\n",
       "      <td>2</td>\n",
       "      <td>2</td>\n",
       "      <td>2</td>\n",
       "      <td>2</td>\n",
       "      <td>2</td>\n",
       "      <td>2</td>\n",
       "      <td>2</td>\n",
       "    </tr>\n",
       "    <tr>\n",
       "      <th>series-a</th>\n",
       "      <td>4</td>\n",
       "      <td>4</td>\n",
       "      <td>4</td>\n",
       "      <td>3</td>\n",
       "      <td>2</td>\n",
       "      <td>4</td>\n",
       "      <td>3</td>\n",
       "      <td>4</td>\n",
       "      <td>4</td>\n",
       "      <td>0</td>\n",
       "      <td>4</td>\n",
       "      <td>4</td>\n",
       "      <td>4</td>\n",
       "      <td>4</td>\n",
       "      <td>4</td>\n",
       "      <td>4</td>\n",
       "      <td>4</td>\n",
       "      <td>4</td>\n",
       "      <td>3</td>\n",
       "      <td>4</td>\n",
       "    </tr>\n",
       "    <tr>\n",
       "      <th>series-b</th>\n",
       "      <td>5</td>\n",
       "      <td>5</td>\n",
       "      <td>5</td>\n",
       "      <td>5</td>\n",
       "      <td>3</td>\n",
       "      <td>5</td>\n",
       "      <td>5</td>\n",
       "      <td>5</td>\n",
       "      <td>5</td>\n",
       "      <td>0</td>\n",
       "      <td>5</td>\n",
       "      <td>5</td>\n",
       "      <td>5</td>\n",
       "      <td>5</td>\n",
       "      <td>5</td>\n",
       "      <td>5</td>\n",
       "      <td>5</td>\n",
       "      <td>5</td>\n",
       "      <td>5</td>\n",
       "      <td>5</td>\n",
       "    </tr>\n",
       "    <tr>\n",
       "      <th>series-c+</th>\n",
       "      <td>12</td>\n",
       "      <td>12</td>\n",
       "      <td>12</td>\n",
       "      <td>12</td>\n",
       "      <td>12</td>\n",
       "      <td>12</td>\n",
       "      <td>12</td>\n",
       "      <td>12</td>\n",
       "      <td>12</td>\n",
       "      <td>0</td>\n",
       "      <td>12</td>\n",
       "      <td>12</td>\n",
       "      <td>12</td>\n",
       "      <td>12</td>\n",
       "      <td>12</td>\n",
       "      <td>12</td>\n",
       "      <td>12</td>\n",
       "      <td>12</td>\n",
       "      <td>12</td>\n",
       "      <td>12</td>\n",
       "    </tr>\n",
       "    <tr>\n",
       "      <th>venture</th>\n",
       "      <td>5</td>\n",
       "      <td>5</td>\n",
       "      <td>5</td>\n",
       "      <td>5</td>\n",
       "      <td>2</td>\n",
       "      <td>5</td>\n",
       "      <td>5</td>\n",
       "      <td>5</td>\n",
       "      <td>5</td>\n",
       "      <td>0</td>\n",
       "      <td>5</td>\n",
       "      <td>5</td>\n",
       "      <td>5</td>\n",
       "      <td>5</td>\n",
       "      <td>5</td>\n",
       "      <td>5</td>\n",
       "      <td>5</td>\n",
       "      <td>5</td>\n",
       "      <td>5</td>\n",
       "      <td>5</td>\n",
       "    </tr>\n",
       "  </tbody>\n",
       "</table>\n",
       "</div>"
      ],
      "text/plain": [
       "                    company_permalink  company_name  company_category_code  \\\n",
       "funding_round_type                                                           \n",
       "other                               1             1                      1   \n",
       "private-equity                      2             2                      2   \n",
       "series-a                            4             4                      4   \n",
       "series-b                            5             5                      5   \n",
       "series-c+                          12            12                     12   \n",
       "venture                             5             5                      5   \n",
       "\n",
       "                    company_country_code  company_state_code  company_region  \\\n",
       "funding_round_type                                                             \n",
       "other                                  1                   1               1   \n",
       "private-equity                         2                   2               2   \n",
       "series-a                               3                   2               4   \n",
       "series-b                               5                   3               5   \n",
       "series-c+                             12                  12              12   \n",
       "venture                                5                   2               5   \n",
       "\n",
       "                    company_city  investor_permalink  investor_name  \\\n",
       "funding_round_type                                                    \n",
       "other                          1                   1              1   \n",
       "private-equity                 2                   2              2   \n",
       "series-a                       3                   4              4   \n",
       "series-b                       5                   5              5   \n",
       "series-c+                     12                  12             12   \n",
       "venture                        5                   5              5   \n",
       "\n",
       "                    investor_category_code  investor_country_code  \\\n",
       "funding_round_type                                                  \n",
       "other                                    0                      1   \n",
       "private-equity                           0                      2   \n",
       "series-a                                 0                      4   \n",
       "series-b                                 0                      5   \n",
       "series-c+                                0                     12   \n",
       "venture                                  0                      5   \n",
       "\n",
       "                    investor_state_code  investor_region  investor_city  \\\n",
       "funding_round_type                                                        \n",
       "other                                 1                1              1   \n",
       "private-equity                        2                2              2   \n",
       "series-a                              4                4              4   \n",
       "series-b                              5                5              5   \n",
       "series-c+                            12               12             12   \n",
       "venture                               5                5              5   \n",
       "\n",
       "                    funded_at  funded_month  funded_quarter  funded_year  \\\n",
       "funding_round_type                                                         \n",
       "other                       1             1               1            1   \n",
       "private-equity              2             2               2            2   \n",
       "series-a                    4             4               4            4   \n",
       "series-b                    5             5               5            5   \n",
       "series-c+                  12            12              12           12   \n",
       "venture                     5             5               5            5   \n",
       "\n",
       "                    raised_amount_usd  id  \n",
       "funding_round_type                         \n",
       "other                               1   1  \n",
       "private-equity                      2   2  \n",
       "series-a                            3   4  \n",
       "series-b                            5   5  \n",
       "series-c+                          12  12  \n",
       "venture                             5   5  "
      ]
     },
     "execution_count": 20,
     "metadata": {},
     "output_type": "execute_result"
    }
   ],
   "source": [
    "df_investments_cleantech_vantage.groupby(\"funding_round_type\").count()"
   ]
  },
  {
   "cell_type": "markdown",
   "metadata": {},
   "source": [
    "VantagePoint Capital Partners like the series-c+ funding round the most."
   ]
  },
  {
   "cell_type": "code",
   "execution_count": 21,
   "metadata": {
    "scrolled": true
   },
   "outputs": [
    {
     "data": {
      "text/html": [
       "<div>\n",
       "<style scoped>\n",
       "    .dataframe tbody tr th:only-of-type {\n",
       "        vertical-align: middle;\n",
       "    }\n",
       "\n",
       "    .dataframe tbody tr th {\n",
       "        vertical-align: top;\n",
       "    }\n",
       "\n",
       "    .dataframe thead th {\n",
       "        text-align: right;\n",
       "    }\n",
       "</style>\n",
       "<table border=\"1\" class=\"dataframe\">\n",
       "  <thead>\n",
       "    <tr style=\"text-align: right;\">\n",
       "      <th></th>\n",
       "      <th>company_permalink</th>\n",
       "      <th>company_name</th>\n",
       "      <th>company_category_code</th>\n",
       "      <th>company_country_code</th>\n",
       "      <th>company_state_code</th>\n",
       "      <th>company_region</th>\n",
       "      <th>company_city</th>\n",
       "      <th>investor_permalink</th>\n",
       "      <th>investor_name</th>\n",
       "      <th>investor_category_code</th>\n",
       "      <th>investor_country_code</th>\n",
       "      <th>investor_state_code</th>\n",
       "      <th>investor_region</th>\n",
       "      <th>investor_city</th>\n",
       "      <th>funded_at</th>\n",
       "      <th>funded_month</th>\n",
       "      <th>funded_quarter</th>\n",
       "      <th>funded_year</th>\n",
       "      <th>raised_amount_usd</th>\n",
       "      <th>id</th>\n",
       "    </tr>\n",
       "    <tr>\n",
       "      <th>funding_round_type</th>\n",
       "      <th></th>\n",
       "      <th></th>\n",
       "      <th></th>\n",
       "      <th></th>\n",
       "      <th></th>\n",
       "      <th></th>\n",
       "      <th></th>\n",
       "      <th></th>\n",
       "      <th></th>\n",
       "      <th></th>\n",
       "      <th></th>\n",
       "      <th></th>\n",
       "      <th></th>\n",
       "      <th></th>\n",
       "      <th></th>\n",
       "      <th></th>\n",
       "      <th></th>\n",
       "      <th></th>\n",
       "      <th></th>\n",
       "      <th></th>\n",
       "    </tr>\n",
       "  </thead>\n",
       "  <tbody>\n",
       "    <tr>\n",
       "      <th>private-equity</th>\n",
       "      <td>2</td>\n",
       "      <td>2</td>\n",
       "      <td>2</td>\n",
       "      <td>2</td>\n",
       "      <td>1</td>\n",
       "      <td>2</td>\n",
       "      <td>2</td>\n",
       "      <td>2</td>\n",
       "      <td>2</td>\n",
       "      <td>0</td>\n",
       "      <td>2</td>\n",
       "      <td>2</td>\n",
       "      <td>2</td>\n",
       "      <td>2</td>\n",
       "      <td>2</td>\n",
       "      <td>2</td>\n",
       "      <td>2</td>\n",
       "      <td>2</td>\n",
       "      <td>2</td>\n",
       "      <td>2</td>\n",
       "    </tr>\n",
       "    <tr>\n",
       "      <th>series-a</th>\n",
       "      <td>6</td>\n",
       "      <td>6</td>\n",
       "      <td>6</td>\n",
       "      <td>6</td>\n",
       "      <td>6</td>\n",
       "      <td>6</td>\n",
       "      <td>6</td>\n",
       "      <td>6</td>\n",
       "      <td>6</td>\n",
       "      <td>0</td>\n",
       "      <td>6</td>\n",
       "      <td>6</td>\n",
       "      <td>6</td>\n",
       "      <td>6</td>\n",
       "      <td>6</td>\n",
       "      <td>6</td>\n",
       "      <td>6</td>\n",
       "      <td>6</td>\n",
       "      <td>6</td>\n",
       "      <td>6</td>\n",
       "    </tr>\n",
       "    <tr>\n",
       "      <th>series-b</th>\n",
       "      <td>9</td>\n",
       "      <td>9</td>\n",
       "      <td>9</td>\n",
       "      <td>9</td>\n",
       "      <td>9</td>\n",
       "      <td>9</td>\n",
       "      <td>9</td>\n",
       "      <td>9</td>\n",
       "      <td>9</td>\n",
       "      <td>0</td>\n",
       "      <td>9</td>\n",
       "      <td>9</td>\n",
       "      <td>9</td>\n",
       "      <td>9</td>\n",
       "      <td>9</td>\n",
       "      <td>9</td>\n",
       "      <td>9</td>\n",
       "      <td>9</td>\n",
       "      <td>9</td>\n",
       "      <td>9</td>\n",
       "    </tr>\n",
       "    <tr>\n",
       "      <th>series-c+</th>\n",
       "      <td>8</td>\n",
       "      <td>8</td>\n",
       "      <td>8</td>\n",
       "      <td>8</td>\n",
       "      <td>8</td>\n",
       "      <td>8</td>\n",
       "      <td>8</td>\n",
       "      <td>8</td>\n",
       "      <td>8</td>\n",
       "      <td>0</td>\n",
       "      <td>8</td>\n",
       "      <td>8</td>\n",
       "      <td>8</td>\n",
       "      <td>8</td>\n",
       "      <td>8</td>\n",
       "      <td>8</td>\n",
       "      <td>8</td>\n",
       "      <td>8</td>\n",
       "      <td>8</td>\n",
       "      <td>8</td>\n",
       "    </tr>\n",
       "    <tr>\n",
       "      <th>venture</th>\n",
       "      <td>6</td>\n",
       "      <td>6</td>\n",
       "      <td>6</td>\n",
       "      <td>6</td>\n",
       "      <td>6</td>\n",
       "      <td>6</td>\n",
       "      <td>6</td>\n",
       "      <td>6</td>\n",
       "      <td>6</td>\n",
       "      <td>0</td>\n",
       "      <td>6</td>\n",
       "      <td>6</td>\n",
       "      <td>6</td>\n",
       "      <td>6</td>\n",
       "      <td>6</td>\n",
       "      <td>6</td>\n",
       "      <td>6</td>\n",
       "      <td>6</td>\n",
       "      <td>6</td>\n",
       "      <td>6</td>\n",
       "    </tr>\n",
       "  </tbody>\n",
       "</table>\n",
       "</div>"
      ],
      "text/plain": [
       "                    company_permalink  company_name  company_category_code  \\\n",
       "funding_round_type                                                           \n",
       "private-equity                      2             2                      2   \n",
       "series-a                            6             6                      6   \n",
       "series-b                            9             9                      9   \n",
       "series-c+                           8             8                      8   \n",
       "venture                             6             6                      6   \n",
       "\n",
       "                    company_country_code  company_state_code  company_region  \\\n",
       "funding_round_type                                                             \n",
       "private-equity                         2                   1               2   \n",
       "series-a                               6                   6               6   \n",
       "series-b                               9                   9               9   \n",
       "series-c+                              8                   8               8   \n",
       "venture                                6                   6               6   \n",
       "\n",
       "                    company_city  investor_permalink  investor_name  \\\n",
       "funding_round_type                                                    \n",
       "private-equity                 2                   2              2   \n",
       "series-a                       6                   6              6   \n",
       "series-b                       9                   9              9   \n",
       "series-c+                      8                   8              8   \n",
       "venture                        6                   6              6   \n",
       "\n",
       "                    investor_category_code  investor_country_code  \\\n",
       "funding_round_type                                                  \n",
       "private-equity                           0                      2   \n",
       "series-a                                 0                      6   \n",
       "series-b                                 0                      9   \n",
       "series-c+                                0                      8   \n",
       "venture                                  0                      6   \n",
       "\n",
       "                    investor_state_code  investor_region  investor_city  \\\n",
       "funding_round_type                                                        \n",
       "private-equity                        2                2              2   \n",
       "series-a                              6                6              6   \n",
       "series-b                              9                9              9   \n",
       "series-c+                             8                8              8   \n",
       "venture                               6                6              6   \n",
       "\n",
       "                    funded_at  funded_month  funded_quarter  funded_year  \\\n",
       "funding_round_type                                                         \n",
       "private-equity              2             2               2            2   \n",
       "series-a                    6             6               6            6   \n",
       "series-b                    9             9               9            9   \n",
       "series-c+                   8             8               8            8   \n",
       "venture                     6             6               6            6   \n",
       "\n",
       "                    raised_amount_usd  id  \n",
       "funding_round_type                         \n",
       "private-equity                      2   2  \n",
       "series-a                            6   6  \n",
       "series-b                            9   9  \n",
       "series-c+                           8   8  \n",
       "venture                             6   6  "
      ]
     },
     "execution_count": 21,
     "metadata": {},
     "output_type": "execute_result"
    }
   ],
   "source": [
    "df_investments_cleantech_newenter.groupby(\"funding_round_type\").count()"
   ]
  },
  {
   "cell_type": "markdown",
   "metadata": {},
   "source": [
    "New Enterprise Associates does not seem to have a extremely high preference for any funding round but usually goes for series-b with series-c+ being the second most used"
   ]
  },
  {
   "cell_type": "code",
   "execution_count": 22,
   "metadata": {
    "scrolled": true
   },
   "outputs": [
    {
     "data": {
      "text/html": [
       "<div>\n",
       "<style scoped>\n",
       "    .dataframe tbody tr th:only-of-type {\n",
       "        vertical-align: middle;\n",
       "    }\n",
       "\n",
       "    .dataframe tbody tr th {\n",
       "        vertical-align: top;\n",
       "    }\n",
       "\n",
       "    .dataframe thead th {\n",
       "        text-align: right;\n",
       "    }\n",
       "</style>\n",
       "<table border=\"1\" class=\"dataframe\">\n",
       "  <thead>\n",
       "    <tr style=\"text-align: right;\">\n",
       "      <th></th>\n",
       "      <th>company_permalink</th>\n",
       "      <th>company_name</th>\n",
       "      <th>company_category_code</th>\n",
       "      <th>company_country_code</th>\n",
       "      <th>company_state_code</th>\n",
       "      <th>company_region</th>\n",
       "      <th>company_city</th>\n",
       "      <th>investor_permalink</th>\n",
       "      <th>investor_name</th>\n",
       "      <th>investor_category_code</th>\n",
       "      <th>investor_country_code</th>\n",
       "      <th>investor_state_code</th>\n",
       "      <th>investor_region</th>\n",
       "      <th>investor_city</th>\n",
       "      <th>funded_at</th>\n",
       "      <th>funded_month</th>\n",
       "      <th>funded_quarter</th>\n",
       "      <th>funded_year</th>\n",
       "      <th>raised_amount_usd</th>\n",
       "      <th>id</th>\n",
       "    </tr>\n",
       "    <tr>\n",
       "      <th>funding_round_type</th>\n",
       "      <th></th>\n",
       "      <th></th>\n",
       "      <th></th>\n",
       "      <th></th>\n",
       "      <th></th>\n",
       "      <th></th>\n",
       "      <th></th>\n",
       "      <th></th>\n",
       "      <th></th>\n",
       "      <th></th>\n",
       "      <th></th>\n",
       "      <th></th>\n",
       "      <th></th>\n",
       "      <th></th>\n",
       "      <th></th>\n",
       "      <th></th>\n",
       "      <th></th>\n",
       "      <th></th>\n",
       "      <th></th>\n",
       "      <th></th>\n",
       "    </tr>\n",
       "  </thead>\n",
       "  <tbody>\n",
       "    <tr>\n",
       "      <th>private-equity</th>\n",
       "      <td>1</td>\n",
       "      <td>1</td>\n",
       "      <td>1</td>\n",
       "      <td>1</td>\n",
       "      <td>1</td>\n",
       "      <td>1</td>\n",
       "      <td>1</td>\n",
       "      <td>1</td>\n",
       "      <td>1</td>\n",
       "      <td>0</td>\n",
       "      <td>1</td>\n",
       "      <td>1</td>\n",
       "      <td>1</td>\n",
       "      <td>1</td>\n",
       "      <td>1</td>\n",
       "      <td>1</td>\n",
       "      <td>1</td>\n",
       "      <td>1</td>\n",
       "      <td>1</td>\n",
       "      <td>1</td>\n",
       "    </tr>\n",
       "    <tr>\n",
       "      <th>series-a</th>\n",
       "      <td>7</td>\n",
       "      <td>7</td>\n",
       "      <td>7</td>\n",
       "      <td>7</td>\n",
       "      <td>6</td>\n",
       "      <td>7</td>\n",
       "      <td>7</td>\n",
       "      <td>7</td>\n",
       "      <td>7</td>\n",
       "      <td>0</td>\n",
       "      <td>7</td>\n",
       "      <td>7</td>\n",
       "      <td>7</td>\n",
       "      <td>7</td>\n",
       "      <td>7</td>\n",
       "      <td>7</td>\n",
       "      <td>7</td>\n",
       "      <td>7</td>\n",
       "      <td>6</td>\n",
       "      <td>7</td>\n",
       "    </tr>\n",
       "    <tr>\n",
       "      <th>series-b</th>\n",
       "      <td>5</td>\n",
       "      <td>5</td>\n",
       "      <td>5</td>\n",
       "      <td>5</td>\n",
       "      <td>4</td>\n",
       "      <td>5</td>\n",
       "      <td>5</td>\n",
       "      <td>5</td>\n",
       "      <td>5</td>\n",
       "      <td>0</td>\n",
       "      <td>5</td>\n",
       "      <td>5</td>\n",
       "      <td>5</td>\n",
       "      <td>5</td>\n",
       "      <td>5</td>\n",
       "      <td>5</td>\n",
       "      <td>5</td>\n",
       "      <td>5</td>\n",
       "      <td>5</td>\n",
       "      <td>5</td>\n",
       "    </tr>\n",
       "    <tr>\n",
       "      <th>series-c+</th>\n",
       "      <td>9</td>\n",
       "      <td>9</td>\n",
       "      <td>9</td>\n",
       "      <td>8</td>\n",
       "      <td>7</td>\n",
       "      <td>9</td>\n",
       "      <td>8</td>\n",
       "      <td>9</td>\n",
       "      <td>9</td>\n",
       "      <td>0</td>\n",
       "      <td>9</td>\n",
       "      <td>9</td>\n",
       "      <td>9</td>\n",
       "      <td>9</td>\n",
       "      <td>9</td>\n",
       "      <td>9</td>\n",
       "      <td>9</td>\n",
       "      <td>9</td>\n",
       "      <td>9</td>\n",
       "      <td>9</td>\n",
       "    </tr>\n",
       "    <tr>\n",
       "      <th>venture</th>\n",
       "      <td>18</td>\n",
       "      <td>18</td>\n",
       "      <td>18</td>\n",
       "      <td>17</td>\n",
       "      <td>13</td>\n",
       "      <td>18</td>\n",
       "      <td>17</td>\n",
       "      <td>18</td>\n",
       "      <td>18</td>\n",
       "      <td>0</td>\n",
       "      <td>18</td>\n",
       "      <td>18</td>\n",
       "      <td>18</td>\n",
       "      <td>18</td>\n",
       "      <td>18</td>\n",
       "      <td>18</td>\n",
       "      <td>18</td>\n",
       "      <td>18</td>\n",
       "      <td>18</td>\n",
       "      <td>18</td>\n",
       "    </tr>\n",
       "  </tbody>\n",
       "</table>\n",
       "</div>"
      ],
      "text/plain": [
       "                    company_permalink  company_name  company_category_code  \\\n",
       "funding_round_type                                                           \n",
       "private-equity                      1             1                      1   \n",
       "series-a                            7             7                      7   \n",
       "series-b                            5             5                      5   \n",
       "series-c+                           9             9                      9   \n",
       "venture                            18            18                     18   \n",
       "\n",
       "                    company_country_code  company_state_code  company_region  \\\n",
       "funding_round_type                                                             \n",
       "private-equity                         1                   1               1   \n",
       "series-a                               7                   6               7   \n",
       "series-b                               5                   4               5   \n",
       "series-c+                              8                   7               9   \n",
       "venture                               17                  13              18   \n",
       "\n",
       "                    company_city  investor_permalink  investor_name  \\\n",
       "funding_round_type                                                    \n",
       "private-equity                 1                   1              1   \n",
       "series-a                       7                   7              7   \n",
       "series-b                       5                   5              5   \n",
       "series-c+                      8                   9              9   \n",
       "venture                       17                  18             18   \n",
       "\n",
       "                    investor_category_code  investor_country_code  \\\n",
       "funding_round_type                                                  \n",
       "private-equity                           0                      1   \n",
       "series-a                                 0                      7   \n",
       "series-b                                 0                      5   \n",
       "series-c+                                0                      9   \n",
       "venture                                  0                     18   \n",
       "\n",
       "                    investor_state_code  investor_region  investor_city  \\\n",
       "funding_round_type                                                        \n",
       "private-equity                        1                1              1   \n",
       "series-a                              7                7              7   \n",
       "series-b                              5                5              5   \n",
       "series-c+                             9                9              9   \n",
       "venture                              18               18             18   \n",
       "\n",
       "                    funded_at  funded_month  funded_quarter  funded_year  \\\n",
       "funding_round_type                                                         \n",
       "private-equity              1             1               1            1   \n",
       "series-a                    7             7               7            7   \n",
       "series-b                    5             5               5            5   \n",
       "series-c+                   9             9               9            9   \n",
       "venture                    18            18              18           18   \n",
       "\n",
       "                    raised_amount_usd  id  \n",
       "funding_round_type                         \n",
       "private-equity                      1   1  \n",
       "series-a                            6   7  \n",
       "series-b                            5   5  \n",
       "series-c+                           9   9  \n",
       "venture                            18  18  "
      ]
     },
     "execution_count": 22,
     "metadata": {},
     "output_type": "execute_result"
    }
   ],
   "source": [
    "df_investments_cleantech_draper.groupby(\"funding_round_type\").count()"
   ]
  },
  {
   "cell_type": "markdown",
   "metadata": {},
   "source": [
    "Draper Fisher Jurvetson (DFJ) prefers the venture round on the other hand with series-c+ being in second place."
   ]
  },
  {
   "cell_type": "markdown",
   "metadata": {},
   "source": [
    "#### What other insights you may find from this dataset (open-ended question). Feel free to use any type of analysis in this part."
   ]
  },
  {
   "cell_type": "code",
   "execution_count": 23,
   "metadata": {},
   "outputs": [
    {
     "data": {
      "text/plain": [
       "Index(['company_permalink', 'company_name', 'company_category_code',\n",
       "       'company_country_code', 'company_state_code', 'company_region',\n",
       "       'company_city', 'investor_permalink', 'investor_name',\n",
       "       'investor_category_code', 'investor_country_code',\n",
       "       'investor_state_code', 'investor_region', 'investor_city',\n",
       "       'funding_round_type', 'funded_at', 'funded_month', 'funded_quarter',\n",
       "       'funded_year', 'raised_amount_usd', 'id'],\n",
       "      dtype='object')"
      ]
     },
     "execution_count": 23,
     "metadata": {},
     "output_type": "execute_result"
    }
   ],
   "source": [
    "df_investments.columns"
   ]
  },
  {
   "cell_type": "code",
   "execution_count": 24,
   "metadata": {},
   "outputs": [
    {
     "data": {
      "text/html": [
       "<div>\n",
       "<style scoped>\n",
       "    .dataframe tbody tr th:only-of-type {\n",
       "        vertical-align: middle;\n",
       "    }\n",
       "\n",
       "    .dataframe tbody tr th {\n",
       "        vertical-align: top;\n",
       "    }\n",
       "\n",
       "    .dataframe thead th {\n",
       "        text-align: right;\n",
       "    }\n",
       "</style>\n",
       "<table border=\"1\" class=\"dataframe\">\n",
       "  <thead>\n",
       "    <tr style=\"text-align: right;\">\n",
       "      <th></th>\n",
       "      <th>funded_year</th>\n",
       "      <th>raised_amount_usd</th>\n",
       "      <th>id</th>\n",
       "    </tr>\n",
       "  </thead>\n",
       "  <tbody>\n",
       "    <tr>\n",
       "      <th>count</th>\n",
       "      <td>83892.000000</td>\n",
       "      <td>7.577500e+04</td>\n",
       "      <td>83893.000000</td>\n",
       "    </tr>\n",
       "    <tr>\n",
       "      <th>mean</th>\n",
       "      <td>2009.965444</td>\n",
       "      <td>1.273083e+07</td>\n",
       "      <td>41947.000000</td>\n",
       "    </tr>\n",
       "    <tr>\n",
       "      <th>std</th>\n",
       "      <td>2.769831</td>\n",
       "      <td>4.229933e+07</td>\n",
       "      <td>24217.967404</td>\n",
       "    </tr>\n",
       "    <tr>\n",
       "      <th>min</th>\n",
       "      <td>1974.000000</td>\n",
       "      <td>1.000000e+03</td>\n",
       "      <td>1.000000</td>\n",
       "    </tr>\n",
       "    <tr>\n",
       "      <th>25%</th>\n",
       "      <td>2008.000000</td>\n",
       "      <td>1.500000e+06</td>\n",
       "      <td>20974.000000</td>\n",
       "    </tr>\n",
       "    <tr>\n",
       "      <th>50%</th>\n",
       "      <td>2011.000000</td>\n",
       "      <td>5.270000e+06</td>\n",
       "      <td>41947.000000</td>\n",
       "    </tr>\n",
       "    <tr>\n",
       "      <th>75%</th>\n",
       "      <td>2012.000000</td>\n",
       "      <td>1.400000e+07</td>\n",
       "      <td>62920.000000</td>\n",
       "    </tr>\n",
       "    <tr>\n",
       "      <th>max</th>\n",
       "      <td>2014.000000</td>\n",
       "      <td>3.200000e+09</td>\n",
       "      <td>83893.000000</td>\n",
       "    </tr>\n",
       "  </tbody>\n",
       "</table>\n",
       "</div>"
      ],
      "text/plain": [
       "        funded_year  raised_amount_usd            id\n",
       "count  83892.000000       7.577500e+04  83893.000000\n",
       "mean    2009.965444       1.273083e+07  41947.000000\n",
       "std        2.769831       4.229933e+07  24217.967404\n",
       "min     1974.000000       1.000000e+03      1.000000\n",
       "25%     2008.000000       1.500000e+06  20974.000000\n",
       "50%     2011.000000       5.270000e+06  41947.000000\n",
       "75%     2012.000000       1.400000e+07  62920.000000\n",
       "max     2014.000000       3.200000e+09  83893.000000"
      ]
     },
     "execution_count": 24,
     "metadata": {},
     "output_type": "execute_result"
    }
   ],
   "source": [
    "df_investments.describe()"
   ]
  },
  {
   "cell_type": "markdown",
   "metadata": {},
   "source": [
    "We can see that this is a dataset which encompasses investments between 1974 and 2014, but that most of the records are after 2008. \n",
    "We can also see that the average raised amount is 1.27e07 dollars but that the median raised amount is 5.27e06 dollars. This shows that the dataset has got quite a few high values of raised amount which is skewing the average raised amount values."
   ]
  },
  {
   "cell_type": "markdown",
   "metadata": {},
   "source": [
    "# Startups compared across eras"
   ]
  },
  {
   "cell_type": "code",
   "execution_count": 32,
   "metadata": {},
   "outputs": [],
   "source": [
    "def year_group(row):\n",
    "    if row['funded_year'] >= 1900 and row['funded_year'] <= 2002:\n",
    "        row['funded_year_group'] = 'less_than_2000'\n",
    "    elif row['funded_year'] > 2002 and row['funded_year'] <= 2005:\n",
    "        row['funded_year_group'] = '2002_2005'\n",
    "    elif row['funded_year'] > 2005 and row['funded_year'] <= 2008:\n",
    "        row['funded_year_group'] = '2005_2008'\n",
    "    elif row['funded_year'] > 2008 and row['funded_year'] <= 2011:\n",
    "        row['funded_year_group'] = '2008_2011'\n",
    "    elif row['funded_year'] > 2011:\n",
    "        row['funded_year_group'] = '2011_2014'\n",
    "    else:\n",
    "        row['funded_year_group'] = ''\n",
    "    return row['funded_year_group']\n",
    "\n",
    "df_investments['funded_year_group'] =  df_investments.apply(year_group,axis =1)"
   ]
  },
  {
   "cell_type": "code",
   "execution_count": 33,
   "metadata": {
    "scrolled": true
   },
   "outputs": [
    {
     "data": {
      "image/png": "[encoded data removed]",
      "text/plain": [
       "<Figure size 1152x504 with 1 Axes>"
      ]
     },
     "metadata": {
      "needs_background": "light"
     },
     "output_type": "display_data"
    }
   ],
   "source": [
    "import matplotlib.pyplot as plt\n",
    "import seaborn as sns\n",
    "plt.figure(figsize = (16,7))\n",
    "sns.countplot(x = 'funded_year_group', data = df_investments.dropna())\n",
    "plt.show()"
   ]
  },
  {
   "cell_type": "markdown",
   "metadata": {},
   "source": [
    "We can see that most of the startups in the dataset are between 2011 and 2014 with the second most representatives coming in between 2008 and 2011. We can see that with time the number of start ups has just increased."
   ]
  },
  {
   "cell_type": "markdown",
   "metadata": {},
   "source": [
    "# Startups since 2000"
   ]
  },
  {
   "cell_type": "code",
   "execution_count": 35,
   "metadata": {},
   "outputs": [
    {
     "name": "stderr",
     "output_type": "stream",
     "text": [
      "<ipython-input-35-23ced4710aff>:2: SettingWithCopyWarning: \n",
      "A value is trying to be set on a copy of a slice from a DataFrame.\n",
      "Try using .loc[row_indexer,col_indexer] = value instead\n",
      "\n",
      "See the caveats in the documentation: https://pandas.pydata.org/pandas-docs/stable/user_guide/indexing.html#returning-a-view-versus-a-copy\n",
      "  df_new['funded_year'] = df_new['funded_year'].astype(int)\n"
     ]
    },
    {
     "data": {
      "image/png": "[encoded data removed]",
      "text/plain": [
       "<Figure size 1152x504 with 1 Axes>"
      ]
     },
     "metadata": {
      "needs_background": "light"
     },
     "output_type": "display_data"
    }
   ],
   "source": [
    "df_new = df_investments[df_investments['funded_year'] >= 2000]\n",
    "df_new['funded_year'] = df_new['funded_year'].astype(int)\n",
    "plt.figure(figsize = (16,7))\n",
    "sns.countplot(x = 'funded_year', data = df_new)\n",
    "plt.show()"
   ]
  },
  {
   "cell_type": "markdown",
   "metadata": {},
   "source": [
    "With each year the number of startups has just increased as can be seen in the diagram above."
   ]
  },
  {
   "cell_type": "code",
   "execution_count": 39,
   "metadata": {},
   "outputs": [
    {
     "data": {
      "image/png": "[encoded data removed]",
      "text/plain": [
       "<Figure size 1152x504 with 1 Axes>"
      ]
     },
     "metadata": {
      "needs_background": "light"
     },
     "output_type": "display_data"
    }
   ],
   "source": [
    "plt.figure(figsize=(16,7))\n",
    "sns.countplot(x ='company_category_code', data = df_investments, order=df_investments['company_category_code'].value_counts().iloc[:10].index)\n",
    "plt.xticks(rotation=30)\n",
    "plt.show()"
   ]
  },
  {
   "cell_type": "markdown",
   "metadata": {},
   "source": [
    "We can see that the software, biotech and mobile sectors are the company categories which are the most represented."
   ]
  },
  {
   "cell_type": "code",
   "execution_count": 40,
   "metadata": {},
   "outputs": [
    {
     "data": {
      "image/png": "[encoded data removed]",
      "text/plain": [
       "<Figure size 1152x504 with 1 Axes>"
      ]
     },
     "metadata": {
      "needs_background": "light"
     },
     "output_type": "display_data"
    }
   ],
   "source": [
    "plt.figure(figsize=(16,7))\n",
    "sns.countplot(x ='investor_category_code', data = df_investments, order=df_investments['investor_category_code'].value_counts().iloc[:10].index)\n",
    "plt.xticks(rotation=30)\n",
    "plt.show()"
   ]
  },
  {
   "cell_type": "markdown",
   "metadata": {},
   "source": [
    "We can see that the finance, other and software sectors are the investor categories which are the most represented."
   ]
  },
  {
   "cell_type": "code",
   "execution_count": 43,
   "metadata": {},
   "outputs": [
    {
     "data": {
      "image/png": "[encoded data removed]",
      "text/plain": [
       "<Figure size 1152x504 with 1 Axes>"
      ]
     },
     "metadata": {
      "needs_background": "light"
     },
     "output_type": "display_data"
    }
   ],
   "source": [
    "plt.figure(figsize=(16,7))\n",
    "g = sns.countplot(x ='company_country_code', data = df_investments, order=df_investments['company_country_code'].value_counts().iloc[:10].index)\n",
    "plt.xticks(rotation=30)\n",
    "plt.show()"
   ]
  },
  {
   "cell_type": "markdown",
   "metadata": {},
   "source": [
    "We can see that the US, GBR and CAN are the countries which are most represented among the companies."
   ]
  },
  {
   "cell_type": "code",
   "execution_count": 45,
   "metadata": {
    "scrolled": true
   },
   "outputs": [
    {
     "data": {
      "image/png": "[encoded data removed]",
      "text/plain": [
       "<Figure size 1152x504 with 1 Axes>"
      ]
     },
     "metadata": {
      "needs_background": "light"
     },
     "output_type": "display_data"
    }
   ],
   "source": [
    "plt.figure(figsize=(16,7))\n",
    "g = sns.countplot(x ='company_state_code', data = df_investments, order=df_investments['company_state_code'].value_counts().iloc[:10].index)\n",
    "plt.xticks(rotation=30)\n",
    "plt.show()"
   ]
  },
  {
   "cell_type": "markdown",
   "metadata": {},
   "source": [
    "We can see that California is the most represented state among the companies followed by NY and then MA and WA."
   ]
  },
  {
   "cell_type": "code",
   "execution_count": 46,
   "metadata": {
    "scrolled": true
   },
   "outputs": [
    {
     "data": {
      "image/png": "[encoded data removed]",
      "text/plain": [
       "<Figure size 1152x504 with 1 Axes>"
      ]
     },
     "metadata": {
      "needs_background": "light"
     },
     "output_type": "display_data"
    }
   ],
   "source": [
    "plt.figure(figsize=(16,7))\n",
    "g = sns.countplot(x ='company_region', data = df_investments, order=df_investments['company_region'].value_counts().iloc[:10].index)\n",
    "plt.xticks(rotation=30)\n",
    "plt.show()"
   ]
  },
  {
   "cell_type": "markdown",
   "metadata": {},
   "source": [
    "We can see that the SF Bay is the most represented among the companies followed by New York, Boston and unknown."
   ]
  },
  {
   "cell_type": "code",
   "execution_count": 47,
   "metadata": {},
   "outputs": [
    {
     "data": {
      "image/png": "[encoded data removed]",
      "text/plain": [
       "<Figure size 1152x504 with 1 Axes>"
      ]
     },
     "metadata": {
      "needs_background": "light"
     },
     "output_type": "display_data"
    }
   ],
   "source": [
    "plt.figure(figsize=(16,7))\n",
    "g = sns.countplot(x ='company_city', data = df_investments, order=df_investments['company_city'].value_counts().iloc[:10].index)\n",
    "plt.xticks(rotation=30)\n",
    "plt.show()"
   ]
  },
  {
   "cell_type": "markdown",
   "metadata": {},
   "source": [
    "We can see that San Francisco is the most represented among the cities followed by New York and then Mountain View and Palo Alto. Later we have the first foreign city London."
   ]
  },
  {
   "cell_type": "code",
   "execution_count": 48,
   "metadata": {},
   "outputs": [
    {
     "data": {
      "image/png": "[encoded data removed]",
      "text/plain": [
       "<Figure size 1152x504 with 1 Axes>"
      ]
     },
     "metadata": {
      "needs_background": "light"
     },
     "output_type": "display_data"
    }
   ],
   "source": [
    "plt.figure(figsize=(16,7))\n",
    "g = sns.countplot(x ='investor_country_code', data = df_investments, order=df_investments['investor_country_code'].value_counts().iloc[:10].index)\n",
    "plt.xticks(rotation=30)\n",
    "plt.show()"
   ]
  },
  {
   "cell_type": "markdown",
   "metadata": {},
   "source": [
    "We can see that among the countries, the US is the most represented among the investors, followed by GBR and CAN."
   ]
  },
  {
   "cell_type": "code",
   "execution_count": 49,
   "metadata": {
    "scrolled": true
   },
   "outputs": [
    {
     "data": {
      "image/png": "[encoded data removed]",
      "text/plain": [
       "<Figure size 1152x504 with 1 Axes>"
      ]
     },
     "metadata": {
      "needs_background": "light"
     },
     "output_type": "display_data"
    }
   ],
   "source": [
    "plt.figure(figsize=(16,7))\n",
    "g = sns.countplot(x ='investor_state_code', data = df_investments, order=df_investments['investor_state_code'].value_counts().iloc[:10].index)\n",
    "plt.xticks(rotation=30)\n",
    "plt.show()"
   ]
  },
  {
   "cell_type": "markdown",
   "metadata": {},
   "source": [
    "We can see that among the states, California is the most represented among the investors followed by NY, MA and IL"
   ]
  },
  {
   "cell_type": "code",
   "execution_count": 50,
   "metadata": {},
   "outputs": [
    {
     "data": {
      "image/png": "[encoded data removed]",
      "text/plain": [
       "<Figure size 1152x504 with 1 Axes>"
      ]
     },
     "metadata": {
      "needs_background": "light"
     },
     "output_type": "display_data"
    }
   ],
   "source": [
    "plt.figure(figsize=(16,7))\n",
    "g = sns.countplot(x ='investor_region', data = df_investments, order=df_investments['investor_region'].value_counts().iloc[:10].index)\n",
    "plt.xticks(rotation=30)\n",
    "plt.show()"
   ]
  },
  {
   "cell_type": "markdown",
   "metadata": {},
   "source": [
    "We can see that among the regions, the SF Bay area is the most represented among the investors followed by New York, Boston and then London."
   ]
  },
  {
   "cell_type": "code",
   "execution_count": 52,
   "metadata": {
    "scrolled": true
   },
   "outputs": [
    {
     "data": {
      "image/png": "[encoded data removed]",
      "text/plain": [
       "<Figure size 1152x504 with 1 Axes>"
      ]
     },
     "metadata": {
      "needs_background": "light"
     },
     "output_type": "display_data"
    }
   ],
   "source": [
    "plt.figure(figsize=(16,7))\n",
    "g = sns.countplot(x ='investor_city', data = df_investments, order=df_investments['investor_city'].value_counts().iloc[:10].index)\n",
    "plt.xticks(rotation=30)\n",
    "plt.show()"
   ]
  },
  {
   "cell_type": "markdown",
   "metadata": {},
   "source": [
    "We can see surprisingly that most of the investors come from Menlo Park and then New York and Palo Alto."
   ]
  },
  {
   "cell_type": "code",
   "execution_count": 53,
   "metadata": {},
   "outputs": [
    {
     "data": {
      "image/png": "[encoded data removed]",
      "text/plain": [
       "<Figure size 1152x504 with 1 Axes>"
      ]
     },
     "metadata": {
      "needs_background": "light"
     },
     "output_type": "display_data"
    }
   ],
   "source": [
    "plt.figure(figsize=(16,7))\n",
    "g = sns.countplot(x ='funding_round_type', data = df_investments, order=df_investments['funding_round_type'].value_counts().iloc[:10].index)\n",
    "plt.xticks(rotation=30)\n",
    "plt.show()"
   ]
  },
  {
   "cell_type": "markdown",
   "metadata": {},
   "source": [
    "While analysing the funding rounds we can see that most of the funding happens in series a and then venture and angel."
   ]
  },
  {
   "cell_type": "code",
   "execution_count": 54,
   "metadata": {},
   "outputs": [
    {
     "data": {
      "image/png": "[encoded data removed]",
      "text/plain": [
       "<Figure size 1152x504 with 1 Axes>"
      ]
     },
     "metadata": {
      "needs_background": "light"
     },
     "output_type": "display_data"
    }
   ],
   "source": [
    "plt.figure(figsize=(16,7))\n",
    "g = sns.countplot(x ='funded_quarter', data = df_investments, order=df_investments['funded_quarter'].value_counts().iloc[:10].index)\n",
    "plt.xticks(rotation=30)\n",
    "plt.show()"
   ]
  },
  {
   "cell_type": "markdown",
   "metadata": {},
   "source": [
    "Analysing the quarters in the dataset, we can see that most of the funding happened in 2013."
   ]
  },
  {
   "cell_type": "code",
   "execution_count": 72,
   "metadata": {
    "scrolled": true
   },
   "outputs": [
    {
     "data": {
      "image/png": "[encoded data removed]",
      "text/plain": [
       "<Figure size 288x288 with 1 Axes>"
      ]
     },
     "metadata": {},
     "output_type": "display_data"
    }
   ],
   "source": [
    "plt.figure(figsize = (4,4))\n",
    "df_companies.status.value_counts().plot(kind='pie',shadow=True, autopct='%1.1f%%')\n",
    "plt.title('Status')\n",
    "plt.show()\n",
    "\n"
   ]
  },
  {
   "cell_type": "markdown",
   "metadata": {},
   "source": [
    "Analysing the companies we can see that most of them are operating. The second most common status is acquired and then closed"
   ]
  },
  {
   "cell_type": "code",
   "execution_count": 58,
   "metadata": {},
   "outputs": [
    {
     "data": {
      "image/png": "[encoded data removed]",
      "text/plain": [
       "<Figure size 1152x504 with 1 Axes>"
      ]
     },
     "metadata": {
      "needs_background": "light"
     },
     "output_type": "display_data"
    }
   ],
   "source": [
    "plt.figure(figsize=(16,7))\n",
    "g = sns.countplot(x ='funding_rounds', data = df_companies, order=df_companies['funding_rounds'].value_counts().iloc[:10].index)\n",
    "plt.xticks(rotation=30)\n",
    "plt.show()"
   ]
  },
  {
   "cell_type": "markdown",
   "metadata": {},
   "source": [
    "Analysing the funding rounds of the companies we can see that most of them have had 1 funding round. But some have had more than 5 too."
   ]
  },
  {
   "cell_type": "code",
   "execution_count": 60,
   "metadata": {},
   "outputs": [
    {
     "data": {
      "image/png": "[encoded data removed]",
      "text/plain": [
       "<Figure size 1152x504 with 1 Axes>"
      ]
     },
     "metadata": {
      "needs_background": "light"
     },
     "output_type": "display_data"
    }
   ],
   "source": [
    "plt.figure(figsize=(16,7))\n",
    "g = sns.countplot(x ='acquirer_category_code', data = df_acquisitions, order=df_acquisitions['acquirer_category_code'].value_counts().iloc[:10].index)\n",
    "plt.xticks(rotation=30)\n",
    "plt.show()"
   ]
  },
  {
   "cell_type": "markdown",
   "metadata": {},
   "source": [
    "Analysing the acquisitions, most of the acquirer category codes have been in software, web and enterprise as can be seen above"
   ]
  },
  {
   "cell_type": "code",
   "execution_count": 61,
   "metadata": {},
   "outputs": [
    {
     "data": {
      "image/png": "[encoded data removed]",
      "text/plain": [
       "<Figure size 1152x504 with 1 Axes>"
      ]
     },
     "metadata": {
      "needs_background": "light"
     },
     "output_type": "display_data"
    }
   ],
   "source": [
    "plt.figure(figsize=(16,7))\n",
    "g = sns.countplot(x ='acquirer_country_code', data = df_acquisitions, order=df_acquisitions['acquirer_country_code'].value_counts().iloc[:10].index)\n",
    "plt.xticks(rotation=30)\n",
    "plt.show()"
   ]
  },
  {
   "cell_type": "markdown",
   "metadata": {},
   "source": [
    "Most of the acquirers are from the US, followed by GBR and then CAN"
   ]
  },
  {
   "cell_type": "code",
   "execution_count": 62,
   "metadata": {
    "scrolled": true
   },
   "outputs": [
    {
     "data": {
      "image/png": "[encoded data removed]",
      "text/plain": [
       "<Figure size 1152x504 with 1 Axes>"
      ]
     },
     "metadata": {
      "needs_background": "light"
     },
     "output_type": "display_data"
    }
   ],
   "source": [
    "plt.figure(figsize=(16,7))\n",
    "g = sns.countplot(x ='acquirer_state_code', data = df_acquisitions, order=df_acquisitions['acquirer_state_code'].value_counts().iloc[:10].index)\n",
    "plt.xticks(rotation=30)\n",
    "plt.show()"
   ]
  },
  {
   "cell_type": "markdown",
   "metadata": {},
   "source": [
    "We can see that most of the acquirers are in CA followed by NY, MA and then WA."
   ]
  },
  {
   "cell_type": "code",
   "execution_count": 63,
   "metadata": {},
   "outputs": [
    {
     "data": {
      "image/png": "[encoded data removed]",
      "text/plain": [
       "<Figure size 1152x504 with 1 Axes>"
      ]
     },
     "metadata": {
      "needs_background": "light"
     },
     "output_type": "display_data"
    }
   ],
   "source": [
    "plt.figure(figsize=(16,7))\n",
    "g = sns.countplot(x ='acquirer_region', data = df_acquisitions, order=df_acquisitions['acquirer_region'].value_counts().iloc[:10].index)\n",
    "plt.xticks(rotation=30)\n",
    "plt.show()"
   ]
  },
  {
   "cell_type": "markdown",
   "metadata": {},
   "source": [
    "We can see that most of the acquirers are from the SF Bay area followed by New York and then Los Angeles. "
   ]
  },
  {
   "cell_type": "code",
   "execution_count": 64,
   "metadata": {},
   "outputs": [
    {
     "data": {
      "image/png": "[encoded data removed]",
      "text/plain": [
       "<Figure size 1152x504 with 1 Axes>"
      ]
     },
     "metadata": {
      "needs_background": "light"
     },
     "output_type": "display_data"
    }
   ],
   "source": [
    "plt.figure(figsize=(16,7))\n",
    "g = sns.countplot(x ='acquirer_city', data = df_acquisitions, order=df_acquisitions['acquirer_city'].value_counts().iloc[:10].index)\n",
    "plt.xticks(rotation=30)\n",
    "plt.show()"
   ]
  },
  {
   "cell_type": "markdown",
   "metadata": {},
   "source": [
    "We can see that most of the acquirers are from New York, San Francisco and then San Jose and then Mountain View."
   ]
  },
  {
   "cell_type": "code",
   "execution_count": 67,
   "metadata": {},
   "outputs": [],
   "source": [
    "\n",
    "df_acquisitions[[\"acquirer_month\",\"acquirer_day\",\"acquirer_year\"]] = df_acquisitions[\"acquired_at\"].str.split(\"/\",expand=True)"
   ]
  },
  {
   "cell_type": "code",
   "execution_count": 69,
   "metadata": {},
   "outputs": [
    {
     "data": {
      "image/png": "[encoded data removed]",
      "text/plain": [
       "<Figure size 1152x504 with 1 Axes>"
      ]
     },
     "metadata": {
      "needs_background": "light"
     },
     "output_type": "display_data"
    }
   ],
   "source": [
    "plt.figure(figsize=(16,7))\n",
    "g = sns.countplot(x ='acquirer_year', data = df_acquisitions, order=df_acquisitions['acquirer_year'].value_counts().iloc[:10].index)\n",
    "plt.xticks(rotation=30)\n",
    "plt.show()"
   ]
  },
  {
   "cell_type": "markdown",
   "metadata": {},
   "source": [
    "We can see that most of the acquisitions happened in 2011 followed by 2010 and then 2013."
   ]
  },
  {
   "cell_type": "code",
   "execution_count": 74,
   "metadata": {
    "scrolled": true
   },
   "outputs": [
    {
     "data": {
      "image/png": "[encoded data removed]",
      "text/plain": [
       "<Figure size 1080x432 with 1 Axes>"
      ]
     },
     "metadata": {
      "needs_background": "light"
     },
     "output_type": "display_data"
    }
   ],
   "source": [
    "plt.rcParams['figure.figsize'] = 15,6\n",
    "plt.hist(df_investments['raised_amount_usd'].dropna(), bins=30,color = 'paleturquoise' )\n",
    "\n",
    "plt.ylabel('Count')\n",
    "plt.xlabel('Raised Amount (usd)')\n",
    "plt.title(\"Distribution of Raised Amount in Investments\", fontdict=None, position= [0.48,1.05], size = 'x-large')\n",
    "plt.show()"
   ]
  },
  {
   "cell_type": "markdown",
   "metadata": {},
   "source": [
    "We can see that the Distribution of Raised Amount in Investments is as above with some very high investments but mostly small ones."
   ]
  },
  {
   "cell_type": "code",
   "execution_count": 76,
   "metadata": {
    "scrolled": true
   },
   "outputs": [
    {
     "data": {
      "image/png": "[encoded data removed]",
      "text/plain": [
       "<Figure size 1080x432 with 1 Axes>"
      ]
     },
     "metadata": {
      "needs_background": "light"
     },
     "output_type": "display_data"
    }
   ],
   "source": [
    "plt.rcParams['figure.figsize'] = 15,6\n",
    "plt.hist(df_companies['funding_total_usd'].dropna(), bins=30,color = 'paleturquoise' )\n",
    "\n",
    "plt.ylabel('Count')\n",
    "plt.xlabel('Funding total (usd)')\n",
    "plt.title(\"Distribution of Funding total in Companies\", fontdict=None, position= [0.48,1.05], size = 'x-large')\n",
    "plt.show()"
   ]
  },
  {
   "cell_type": "markdown",
   "metadata": {},
   "source": [
    "We can see that the Distribution of Funding total in Companies is as above with some very high investments but mostly small ones."
   ]
  },
  {
   "cell_type": "code",
   "execution_count": 78,
   "metadata": {},
   "outputs": [
    {
     "data": {
      "image/png": "[encoded data removed]",
      "text/plain": [
       "<Figure size 1080x432 with 1 Axes>"
      ]
     },
     "metadata": {
      "needs_background": "light"
     },
     "output_type": "display_data"
    }
   ],
   "source": [
    "plt.hist(df_companies['funding_total_usd'][(df_companies['funding_total_usd'] >= 1000000000)&(df_companies['funding_total_usd'] <= 3000000000)].dropna(), bins=30,color = 'lightcyan' )\n",
    "plt.ylabel('Count')\n",
    "plt.xlabel('Funding (usd)')\n",
    "plt.title(\"Funding histogram\", fontdict=None, position= [0.48,1.05], size = 'x-large')\n",
    "plt.show()"
   ]
  },
  {
   "cell_type": "markdown",
   "metadata": {},
   "source": [
    "Analysing the funding according to the companies and drawing a histogram we get the following graph."
   ]
  }
 ],
 "metadata": {
  "kernelspec": {
   "display_name": "Python 3",
   "language": "python",
   "name": "python3"
  },
  "language_info": {
   "codemirror_mode": {
    "name": "ipython",
    "version": 3
   },
   "file_extension": ".py",
   "mimetype": "text/x-python",
   "name": "python",
   "nbconvert_exporter": "python",
   "pygments_lexer": "ipython3",
   "version": "3.8.8"
  }
 },
 "nbformat": 4,
 "nbformat_minor": 4
}
